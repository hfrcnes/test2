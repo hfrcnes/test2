{
 "cells": [
  {
   "cell_type": "markdown",
   "id": "8ef99e2d-f27d-4abf-85db-8ce3f757560d",
   "metadata": {
    "tags": []
   },
   "source": [
    "# Quickstart\n",
    "Now that you installation went ok, let's start with a small example.\n",
    "Let's create our first `Geodes` object."
   ]
  },
  {
   "cell_type": "code",
   "execution_count": 1,
   "id": "98a5c333-197f-4d63-904e-63fbc8f61c34",
   "metadata": {
    "tags": []
   },
   "outputs": [],
   "source": [
    "from pygeodes import Geodes\n",
    "\n",
    "geodes = Geodes()"
   ]
  },
  {
   "cell_type": "markdown",
   "id": "429d140a-810b-4e15-83ff-9f28aadeb5f1",
   "metadata": {},
   "source": [
    "## Searching for collections\n",
    "Then we can start by searching for existing collections, for example with search term *sentinel* :"
   ]
  },
  {
   "cell_type": "code",
   "execution_count": 2,
   "id": "719db1fa-e037-45bc-8d0b-d249a85fda74",
   "metadata": {
    "tags": []
   },
   "outputs": [
    {
     "name": "stderr",
     "output_type": "stream",
     "text": [
      "Indexing: 100%|██████████| 4/4 [00:00<00:00, 1954.25it/s]"
     ]
    },
    {
     "name": "stdout",
     "output_type": "stream",
     "text": [
      "Matched terms : {('title', b'sentinel'), ('description', b'sentinel')}\n"
     ]
    },
    {
     "name": "stderr",
     "output_type": "stream",
     "text": [
      "\n"
     ]
    }
   ],
   "source": [
    "collections, dataframe = geodes.search_collections(\"sentinel\")"
   ]
  },
  {
   "cell_type": "markdown",
   "id": "585da4c0-eb0f-4182-9c2b-301106d87d53",
   "metadata": {},
   "source": [
    "Let's see what we found. As a result, we get a `collections` object, which is a list of `Collection` objects."
   ]
  },
  {
   "cell_type": "code",
   "execution_count": 3,
   "id": "371d17c1-960e-4846-9a48-5eb3fccc9149",
   "metadata": {
    "tags": []
   },
   "outputs": [
    {
     "data": {
      "text/plain": [
       "[<Collection id=PEPS_S2_L1C>,\n",
       " <Collection id=PEPS_S2_L2A>,\n",
       " <Collection id=PEPS_S1_L2>,\n",
       " <Collection id=PEPS_S1_L1>]"
      ]
     },
     "execution_count": 3,
     "metadata": {},
     "output_type": "execute_result"
    }
   ],
   "source": [
    "collections"
   ]
  },
  {
   "cell_type": "markdown",
   "id": "ec82dcd6-159e-4092-9f63-2f627db9b101",
   "metadata": {},
   "source": [
    "and a `dataframe` object, which is a `geopandas.GeoDataFrame`."
   ]
  },
  {
   "cell_type": "code",
   "execution_count": 4,
   "id": "62d67813-abd6-47ee-bf4a-6d8ecab7e72a",
   "metadata": {
    "tags": []
   },
   "outputs": [
    {
     "data": {
      "text/html": [
       "<div>\n",
       "<style scoped>\n",
       "    .dataframe tbody tr th:only-of-type {\n",
       "        vertical-align: middle;\n",
       "    }\n",
       "\n",
       "    .dataframe tbody tr th {\n",
       "        vertical-align: top;\n",
       "    }\n",
       "\n",
       "    .dataframe thead th {\n",
       "        text-align: right;\n",
       "    }\n",
       "</style>\n",
       "<table border=\"1\" class=\"dataframe\">\n",
       "  <thead>\n",
       "    <tr style=\"text-align: right;\">\n",
       "      <th></th>\n",
       "      <th>title</th>\n",
       "      <th>description</th>\n",
       "      <th>collection</th>\n",
       "    </tr>\n",
       "  </thead>\n",
       "  <tbody>\n",
       "    <tr>\n",
       "      <th>0</th>\n",
       "      <td>PEPS Sentinel-2 L1C tiles</td>\n",
       "      <td>Sentinel-2 L1C tiles acquisition and storage f...</td>\n",
       "      <td>&lt;Collection id=PEPS_S2_L1C&gt;</td>\n",
       "    </tr>\n",
       "    <tr>\n",
       "      <th>1</th>\n",
       "      <td>PEPS Sentinel-2 L2A tiles</td>\n",
       "      <td>Sentinel-2 L2A tiles acquisition and storage f...</td>\n",
       "      <td>&lt;Collection id=PEPS_S2_L2A&gt;</td>\n",
       "    </tr>\n",
       "    <tr>\n",
       "      <th>2</th>\n",
       "      <td>PEPS Sentinel-1 Level2</td>\n",
       "      <td>Sentinel-1 Level-2 consists of geolocated geop...</td>\n",
       "      <td>&lt;Collection id=PEPS_S1_L2&gt;</td>\n",
       "    </tr>\n",
       "    <tr>\n",
       "      <th>3</th>\n",
       "      <td>PEPS Sentinel-1 Level1</td>\n",
       "      <td>Sentinel-1 Level-1 products are the baseline p...</td>\n",
       "      <td>&lt;Collection id=PEPS_S1_L1&gt;</td>\n",
       "    </tr>\n",
       "  </tbody>\n",
       "</table>\n",
       "</div>"
      ],
      "text/plain": [
       "                       title  \\\n",
       "0  PEPS Sentinel-2 L1C tiles   \n",
       "1  PEPS Sentinel-2 L2A tiles   \n",
       "2     PEPS Sentinel-1 Level2   \n",
       "3     PEPS Sentinel-1 Level1   \n",
       "\n",
       "                                         description  \\\n",
       "0  Sentinel-2 L1C tiles acquisition and storage f...   \n",
       "1  Sentinel-2 L2A tiles acquisition and storage f...   \n",
       "2  Sentinel-1 Level-2 consists of geolocated geop...   \n",
       "3  Sentinel-1 Level-1 products are the baseline p...   \n",
       "\n",
       "                    collection  \n",
       "0  <Collection id=PEPS_S2_L1C>  \n",
       "1  <Collection id=PEPS_S2_L2A>  \n",
       "2   <Collection id=PEPS_S1_L2>  \n",
       "3   <Collection id=PEPS_S1_L1>  "
      ]
     },
     "execution_count": 4,
     "metadata": {},
     "output_type": "execute_result"
    }
   ],
   "source": [
    "dataframe"
   ]
  },
  {
   "cell_type": "markdown",
   "id": "80222a08-4fdd-41f2-b696-c4999481fea4",
   "metadata": {},
   "source": [
    "The dataframe let's see you quickly see what you found, with only a few columns (here *description* and *title*), but if you are more comfortable working with raw objects, it's also possible.\n",
    "\n",
    "Let's see how many elements are in these collections."
   ]
  },
  {
   "cell_type": "code",
   "execution_count": 5,
   "id": "981645de-828b-41d7-9526-c7a1a316c89d",
   "metadata": {
    "tags": []
   },
   "outputs": [
    {
     "name": "stdout",
     "output_type": "stream",
     "text": [
      "collection PEPS Sentinel-2 L1C tiles has 23316151 elements\n",
      "collection PEPS Sentinel-2 L2A tiles has 0 elements\n",
      "collection PEPS Sentinel-1 Level2 has 1209303 elements\n",
      "collection PEPS Sentinel-1 Level1 has 5412056 elements\n"
     ]
    }
   ],
   "source": [
    "for collection in collections:\n",
    "    print(\n",
    "        f\"collection {collection.title} has {collection.summaries.other.get('total_items')} elements\"\n",
    "    )"
   ]
  },
  {
   "cell_type": "markdown",
   "id": "c7a4a9ed-a959-4b0d-a335-c13f6ee8ade7",
   "metadata": {},
   "source": [
    "We could want to add columns to our dataframe. To know which columns are available, use `collection.list_available_keys()` on a `Collection` object : "
   ]
  },
  {
   "cell_type": "code",
   "execution_count": 6,
   "id": "f3d3ba65-70d3-4d0d-b470-987d46a8c7bb",
   "metadata": {
    "tags": []
   },
   "outputs": [
    {
     "data": {
      "text/plain": [
       "{'assets.toar.description',\n",
       " 'assets.toar.href',\n",
       " 'assets.toar.roles',\n",
       " 'assets.toar.title',\n",
       " 'assets.toar.type',\n",
       " 'assets.wms_capabilities.description',\n",
       " 'assets.wms_capabilities.href',\n",
       " 'assets.wms_capabilities.roles',\n",
       " 'assets.wms_capabilities.title',\n",
       " 'assets.wms_capabilities.type',\n",
       " 'description',\n",
       " 'extent.spatial.bbox',\n",
       " 'extent.temporal.interval',\n",
       " 'id',\n",
       " 'keywords',\n",
       " 'license',\n",
       " 'links',\n",
       " 'providers',\n",
       " 'stac_extensions',\n",
       " 'stac_version',\n",
       " 'summaries.contactPoint:fn',\n",
       " 'summaries.contactPoint:hasEmail',\n",
       " 'summaries.dataType',\n",
       " 'summaries.dcs:dataGeometryType',\n",
       " 'summaries.dcs:itemType',\n",
       " 'summaries.dcs:platform',\n",
       " 'summaries.dcs:processingLevel',\n",
       " 'summaries.dcs:satellite',\n",
       " 'summaries.dcs:sensor',\n",
       " 'summaries.dcs:spatialResolutionInMeters',\n",
       " 'summaries.dcs:temporalResolutionInHours',\n",
       " 'summaries.distribution:accessURL',\n",
       " 'summaries.distribution:format',\n",
       " 'summaries.latest',\n",
       " 'summaries.thematiques:theme',\n",
       " 'summaries.thematiques:variables',\n",
       " 'summaries.total_items',\n",
       " 'summaries.versionInfo',\n",
       " 'title',\n",
       " 'type'}"
      ]
     },
     "execution_count": 6,
     "metadata": {},
     "output_type": "execute_result"
    }
   ],
   "source": [
    "collections[0].list_available_keys()"
   ]
  },
  {
   "cell_type": "markdown",
   "id": "c945bacf-6134-483e-9fb4-aed2d2be7302",
   "metadata": {
    "tags": []
   },
   "source": [
    "Let's add `summaries.total_items` to the dataframe : "
   ]
  },
  {
   "cell_type": "code",
   "execution_count": 7,
   "id": "9cf83e08-4544-4ec5-8529-13f4bb6edbff",
   "metadata": {
    "tags": []
   },
   "outputs": [],
   "source": [
    "from pygeodes.utils.formatting import format_collections\n",
    "\n",
    "new_dataframe = format_collections(\n",
    "    dataframe, columns_to_add={\"summaries.total_items\"}\n",
    ")"
   ]
  },
  {
   "cell_type": "code",
   "execution_count": 8,
   "id": "15bdcb6e-65b0-492d-8bda-e39f7bd61844",
   "metadata": {
    "tags": []
   },
   "outputs": [
    {
     "data": {
      "text/html": [
       "<div>\n",
       "<style scoped>\n",
       "    .dataframe tbody tr th:only-of-type {\n",
       "        vertical-align: middle;\n",
       "    }\n",
       "\n",
       "    .dataframe tbody tr th {\n",
       "        vertical-align: top;\n",
       "    }\n",
       "\n",
       "    .dataframe thead th {\n",
       "        text-align: right;\n",
       "    }\n",
       "</style>\n",
       "<table border=\"1\" class=\"dataframe\">\n",
       "  <thead>\n",
       "    <tr style=\"text-align: right;\">\n",
       "      <th></th>\n",
       "      <th>title</th>\n",
       "      <th>description</th>\n",
       "      <th>collection</th>\n",
       "      <th>summaries.total_items</th>\n",
       "    </tr>\n",
       "  </thead>\n",
       "  <tbody>\n",
       "    <tr>\n",
       "      <th>0</th>\n",
       "      <td>PEPS Sentinel-2 L1C tiles</td>\n",
       "      <td>Sentinel-2 L1C tiles acquisition and storage f...</td>\n",
       "      <td>&lt;Collection id=PEPS_S2_L1C&gt;</td>\n",
       "      <td>23316151</td>\n",
       "    </tr>\n",
       "    <tr>\n",
       "      <th>1</th>\n",
       "      <td>PEPS Sentinel-2 L2A tiles</td>\n",
       "      <td>Sentinel-2 L2A tiles acquisition and storage f...</td>\n",
       "      <td>&lt;Collection id=PEPS_S2_L2A&gt;</td>\n",
       "      <td>0</td>\n",
       "    </tr>\n",
       "    <tr>\n",
       "      <th>2</th>\n",
       "      <td>PEPS Sentinel-1 Level2</td>\n",
       "      <td>Sentinel-1 Level-2 consists of geolocated geop...</td>\n",
       "      <td>&lt;Collection id=PEPS_S1_L2&gt;</td>\n",
       "      <td>1209303</td>\n",
       "    </tr>\n",
       "    <tr>\n",
       "      <th>3</th>\n",
       "      <td>PEPS Sentinel-1 Level1</td>\n",
       "      <td>Sentinel-1 Level-1 products are the baseline p...</td>\n",
       "      <td>&lt;Collection id=PEPS_S1_L1&gt;</td>\n",
       "      <td>5412056</td>\n",
       "    </tr>\n",
       "  </tbody>\n",
       "</table>\n",
       "</div>"
      ],
      "text/plain": [
       "                       title  \\\n",
       "0  PEPS Sentinel-2 L1C tiles   \n",
       "1  PEPS Sentinel-2 L2A tiles   \n",
       "2     PEPS Sentinel-1 Level2   \n",
       "3     PEPS Sentinel-1 Level1   \n",
       "\n",
       "                                         description  \\\n",
       "0  Sentinel-2 L1C tiles acquisition and storage f...   \n",
       "1  Sentinel-2 L2A tiles acquisition and storage f...   \n",
       "2  Sentinel-1 Level-2 consists of geolocated geop...   \n",
       "3  Sentinel-1 Level-1 products are the baseline p...   \n",
       "\n",
       "                    collection  summaries.total_items  \n",
       "0  <Collection id=PEPS_S2_L1C>               23316151  \n",
       "1  <Collection id=PEPS_S2_L2A>                      0  \n",
       "2   <Collection id=PEPS_S1_L2>                1209303  \n",
       "3   <Collection id=PEPS_S1_L1>                5412056  "
      ]
     },
     "execution_count": 8,
     "metadata": {},
     "output_type": "execute_result"
    }
   ],
   "source": [
    "new_dataframe"
   ]
  },
  {
   "cell_type": "markdown",
   "id": "7c0b9d2a-bdf6-4ff4-911b-a68b5392670a",
   "metadata": {},
   "source": [
    "If you wish to produce a fresh new dataframe with your custom columns, use `format_collections` on a list of collections :  "
   ]
  },
  {
   "cell_type": "code",
   "execution_count": 9,
   "id": "f2b990e2-7fca-4802-bb1f-3f1355ecd430",
   "metadata": {
    "tags": []
   },
   "outputs": [],
   "source": [
    "new_dataframe = format_collections(\n",
    "    collections,\n",
    "    columns_to_add={\"summaries.dcs:satellite\", \"summaries.dcs:sensor\"},\n",
    ")"
   ]
  },
  {
   "cell_type": "code",
   "execution_count": 10,
   "id": "a7a8d79c-bb6f-4c1e-9f44-79ef769aacd0",
   "metadata": {
    "tags": []
   },
   "outputs": [
    {
     "data": {
      "text/html": [
       "<div>\n",
       "<style scoped>\n",
       "    .dataframe tbody tr th:only-of-type {\n",
       "        vertical-align: middle;\n",
       "    }\n",
       "\n",
       "    .dataframe tbody tr th {\n",
       "        vertical-align: top;\n",
       "    }\n",
       "\n",
       "    .dataframe thead th {\n",
       "        text-align: right;\n",
       "    }\n",
       "</style>\n",
       "<table border=\"1\" class=\"dataframe\">\n",
       "  <thead>\n",
       "    <tr style=\"text-align: right;\">\n",
       "      <th></th>\n",
       "      <th>summaries.dcs:sensor</th>\n",
       "      <th>title</th>\n",
       "      <th>description</th>\n",
       "      <th>summaries.dcs:satellite</th>\n",
       "      <th>collection</th>\n",
       "    </tr>\n",
       "  </thead>\n",
       "  <tbody>\n",
       "    <tr>\n",
       "      <th>0</th>\n",
       "      <td>[MSI]</td>\n",
       "      <td>PEPS Sentinel-2 L1C tiles</td>\n",
       "      <td>Sentinel-2 L1C tiles acquisition and storage f...</td>\n",
       "      <td>[sentinel-2]</td>\n",
       "      <td>&lt;Collection id=PEPS_S2_L1C&gt;</td>\n",
       "    </tr>\n",
       "    <tr>\n",
       "      <th>1</th>\n",
       "      <td>[MSI]</td>\n",
       "      <td>PEPS Sentinel-2 L2A tiles</td>\n",
       "      <td>Sentinel-2 L2A tiles acquisition and storage f...</td>\n",
       "      <td>[sentinel-2]</td>\n",
       "      <td>&lt;Collection id=PEPS_S2_L2A&gt;</td>\n",
       "    </tr>\n",
       "    <tr>\n",
       "      <th>2</th>\n",
       "      <td>[SAR-C]</td>\n",
       "      <td>PEPS Sentinel-1 Level2</td>\n",
       "      <td>Sentinel-1 Level-2 consists of geolocated geop...</td>\n",
       "      <td>[sentinel-1]</td>\n",
       "      <td>&lt;Collection id=PEPS_S1_L2&gt;</td>\n",
       "    </tr>\n",
       "    <tr>\n",
       "      <th>3</th>\n",
       "      <td>[SAR-C]</td>\n",
       "      <td>PEPS Sentinel-1 Level1</td>\n",
       "      <td>Sentinel-1 Level-1 products are the baseline p...</td>\n",
       "      <td>[sentinel-1]</td>\n",
       "      <td>&lt;Collection id=PEPS_S1_L1&gt;</td>\n",
       "    </tr>\n",
       "  </tbody>\n",
       "</table>\n",
       "</div>"
      ],
      "text/plain": [
       "  summaries.dcs:sensor                      title  \\\n",
       "0                [MSI]  PEPS Sentinel-2 L1C tiles   \n",
       "1                [MSI]  PEPS Sentinel-2 L2A tiles   \n",
       "2              [SAR-C]     PEPS Sentinel-1 Level2   \n",
       "3              [SAR-C]     PEPS Sentinel-1 Level1   \n",
       "\n",
       "                                         description summaries.dcs:satellite  \\\n",
       "0  Sentinel-2 L1C tiles acquisition and storage f...            [sentinel-2]   \n",
       "1  Sentinel-2 L2A tiles acquisition and storage f...            [sentinel-2]   \n",
       "2  Sentinel-1 Level-2 consists of geolocated geop...            [sentinel-1]   \n",
       "3  Sentinel-1 Level-1 products are the baseline p...            [sentinel-1]   \n",
       "\n",
       "                    collection  \n",
       "0  <Collection id=PEPS_S2_L1C>  \n",
       "1  <Collection id=PEPS_S2_L2A>  \n",
       "2   <Collection id=PEPS_S1_L2>  \n",
       "3   <Collection id=PEPS_S1_L1>  "
      ]
     },
     "execution_count": 10,
     "metadata": {},
     "output_type": "execute_result"
    }
   ],
   "source": [
    "new_dataframe"
   ]
  },
  {
   "cell_type": "markdown",
   "id": "398de677-892b-443e-b92b-599c09435218",
   "metadata": {},
   "source": [
    "**Note** : `title` and `description` columns are always here by default. "
   ]
  },
  {
   "cell_type": "markdown",
   "id": "732e170f-fb2b-41f7-bd17-1e6da447cab9",
   "metadata": {},
   "source": [
    "## Searching for items\n",
    "\n",
    "As for collections, we can search for items.\n",
    "To know which arguments to put in your query, please use : \n",
    "\n"
   ]
  },
  {
   "cell_type": "code",
   "execution_count": 11,
   "id": "6c60495b-fc6f-42be-ad3d-e935c0ab8e84",
   "metadata": {
    "tags": []
   },
   "outputs": [
    {
     "name": "stdout",
     "output_type": "stream",
     "text": [
      "{'version': 'v7.0', 'attributes': ['dataType (STRING)', 'date (DATE_ISO8601)', 'links (STRING)', 'productValidity (BOOLEAN)', 'doi (STRING_ARRAY)', 'withoutGeom (BOOLEAN)', 'temporal:startDate (DATE_ISO8601)', 'temporal:endDate (DATE_ISO8601)', 'temporal:processingDate (DATE_ISO8601)', 'processing:processingMode (STRING)', 'processing:processingContext (STRING)', 'processing:processingCorrection (STRING)', 'processing:processingVersion (STRING)', 'spatial:bbox (STRING)', 'spatial:nbCols (STRING)', 'spatial:nbRows (STRING)', 'spaceborne:satelliteSensor (STRING)', 'spaceborne:satellitePlatform (STRING)', 'spaceborne:sensorMode (STRING)', 'spaceborne:productLevel (STRING)', 'spaceborne:polarization (STRING)', 'spaceborne:cycleID (INTEGER)', 'spaceborne:missionTakeId (INTEGER)', 'spaceborne:s2TakeId (STRING)', 'spaceborne:orbitID (INTEGER)', 'spaceborne:absoluteOrbitID (LONG)', 'spaceborne:orbitDirection (STRING)', 'spaceborne:productType (STRING)', 'spaceborne:parameter (STRING)', 'spaceborne:pparameter (STRING)', 'spaceborne:product (STRING)', 'spaceborne:timeresolution (STRING)', 'spaceborne:classification (STRING)', 'spaceborne:swath (STRING)', 'spaceborne:bands (STRING)', 'spaceborne:tile (STRING)', 'spaceborne:cloudCover (DOUBLE)', 'spaceborne:waterCover (DOUBLE)', 'spaceborne:percentSaturatedPixelsMax (DOUBLE)', 'spaceborne:percentNoDataPixelsMax (DOUBLE)', 'spaceborne:nbColInterpolationErrorMax (DOUBLE)', 'spaceborne:percentGroundUsefulPixels (DOUBLE)', 'spaceborne:percentUsefulPixelsMin (DOUBLE)', 'spaceborne:angle (DOUBLE)', 'spaceborne:pitch (DOUBLE)', 'spaceborne:roll (DOUBLE)', 'spaceborne:continentsID (STRING_ARRAY)', 'spaceborne:area (DOUBLE)', 'spaceborne:subSwath (STRING)', 'spaceborne:subTile (STRING)', 'spaceborne:keywords (STRING_ARRAY)', 'spaceborne:political (JSON)']}\n"
     ]
    }
   ],
   "source": [
    "from pygeodes.utils.query import get_requestable_args\n",
    "\n",
    "print(get_requestable_args())"
   ]
  },
  {
   "cell_type": "markdown",
   "id": "003205c0-7707-4d1d-9a1e-0bbf6922176e",
   "metadata": {},
   "source": [
    "We see we can use `spaceborne:absoluteOrbitID`. Let's search for example those whose orbit direction is 30972: "
   ]
  },
  {
   "cell_type": "code",
   "execution_count": 12,
   "id": "b345e997-c6ed-4a20-9da5-9ab0bd63467c",
   "metadata": {
    "tags": []
   },
   "outputs": [
    {
     "name": "stdout",
     "output_type": "stream",
     "text": [
      "Found 852 items matching your query\n"
     ]
    },
    {
     "name": "stderr",
     "output_type": "stream",
     "text": [
      "                                             "
     ]
    },
    {
     "name": "stdout",
     "output_type": "stream",
     "text": [
      "852 item(s) found for query : {'spaceborne:absoluteOrbitID': {'eq': 30972}}\n",
      "\n"
     ]
    },
    {
     "name": "stderr",
     "output_type": "stream",
     "text": [
      "\r"
     ]
    }
   ],
   "source": [
    "query = {\"spaceborne:absoluteOrbitID\": {\"eq\": 30972}}\n",
    "items, dataframe = geodes.search_items(query=query)"
   ]
  },
  {
   "cell_type": "markdown",
   "id": "d9e64871-e5ce-4228-89e8-6b4f174aa787",
   "metadata": {},
   "source": [
    "Again, we come out with an `items` object, and a `dataframe` object."
   ]
  },
  {
   "cell_type": "code",
   "execution_count": 13,
   "id": "68ab9b50-6120-4eb6-85ff-fefabdb96708",
   "metadata": {
    "tags": []
   },
   "outputs": [
    {
     "data": {
      "text/plain": [
       "852"
      ]
     },
     "execution_count": 13,
     "metadata": {},
     "output_type": "execute_result"
    }
   ],
   "source": [
    "len(items)"
   ]
  },
  {
   "cell_type": "code",
   "execution_count": 14,
   "id": "213d67fa-3e9f-4595-bac6-192f740c207e",
   "metadata": {
    "tags": []
   },
   "outputs": [
    {
     "data": {
      "text/plain": [
       "[Item (URN:FEATURE:DATA:gdh:c72b550c-52f5-3fa0-8bc0-633b0d4de8ce:V1),\n",
       " Item (URN:FEATURE:DATA:gdh:2327b73a-4cda-3340-8ff6-93477c65d994:V1),\n",
       " Item (URN:FEATURE:DATA:gdh:187a9026-dbc4-30fe-8a90-fc54a92d51d4:V1),\n",
       " Item (URN:FEATURE:DATA:gdh:ac4337b5-dca0-39a1-9a1f-b9661283d745:V1),\n",
       " Item (URN:FEATURE:DATA:gdh:a96dc6c4-8550-339a-8d95-a6e2d07711dc:V1),\n",
       " Item (URN:FEATURE:DATA:gdh:a3fb0d87-6c9c-3223-8b38-7414ac309dda:V1),\n",
       " Item (URN:FEATURE:DATA:gdh:524d8c1d-ae07-3bc1-acc6-6bf7b5b3581a:V1),\n",
       " Item (URN:FEATURE:DATA:gdh:5b627fa7-0cb9-3f4b-859f-b07642e8dbd8:V1),\n",
       " Item (URN:FEATURE:DATA:gdh:b9652250-b462-3b04-bdfe-004095fd4bfc:V1),\n",
       " Item (URN:FEATURE:DATA:gdh:f630948f-900d-3743-a2c5-fd88b1e6cf9a:V1)]"
      ]
     },
     "execution_count": 14,
     "metadata": {},
     "output_type": "execute_result"
    }
   ],
   "source": [
    "items[:10]  # printing everything is useless"
   ]
  },
  {
   "cell_type": "code",
   "execution_count": 15,
   "id": "d71db54a-e255-4130-ae49-542de710b4ba",
   "metadata": {
    "tags": []
   },
   "outputs": [
    {
     "data": {
      "text/html": [
       "<div>\n",
       "<style scoped>\n",
       "    .dataframe tbody tr th:only-of-type {\n",
       "        vertical-align: middle;\n",
       "    }\n",
       "\n",
       "    .dataframe tbody tr th {\n",
       "        vertical-align: top;\n",
       "    }\n",
       "\n",
       "    .dataframe thead th {\n",
       "        text-align: right;\n",
       "    }\n",
       "</style>\n",
       "<table border=\"1\" class=\"dataframe\">\n",
       "  <thead>\n",
       "    <tr style=\"text-align: right;\">\n",
       "      <th></th>\n",
       "      <th>id</th>\n",
       "      <th>spaceborne:absoluteOrbitID</th>\n",
       "      <th>collection</th>\n",
       "      <th>item</th>\n",
       "      <th>geometry</th>\n",
       "    </tr>\n",
       "  </thead>\n",
       "  <tbody>\n",
       "    <tr>\n",
       "      <th>0</th>\n",
       "      <td>URN:FEATURE:DATA:gdh:c72b550c-52f5-3fa0-8bc0-6...</td>\n",
       "      <td>30972</td>\n",
       "      <td>PEPS_S2_L1C</td>\n",
       "      <td>Item (URN:FEATURE:DATA:gdh:c72b550c-52f5-3fa0-...</td>\n",
       "      <td>POLYGON ((161.77151 -13.54330, 161.78322 -13.4...</td>\n",
       "    </tr>\n",
       "    <tr>\n",
       "      <th>1</th>\n",
       "      <td>URN:FEATURE:DATA:gdh:2327b73a-4cda-3340-8ff6-9...</td>\n",
       "      <td>30972</td>\n",
       "      <td>PEPS_S2_L1C</td>\n",
       "      <td>Item (URN:FEATURE:DATA:gdh:2327b73a-4cda-3340-...</td>\n",
       "      <td>POLYGON ((159.93635 -16.36716, 160.96413 -16.3...</td>\n",
       "    </tr>\n",
       "    <tr>\n",
       "      <th>2</th>\n",
       "      <td>URN:FEATURE:DATA:gdh:187a9026-dbc4-30fe-8a90-f...</td>\n",
       "      <td>30972</td>\n",
       "      <td>PEPS_S2_L1C</td>\n",
       "      <td>Item (URN:FEATURE:DATA:gdh:187a9026-dbc4-30fe-...</td>\n",
       "      <td>POLYGON ((159.95583 -19.98223, 160.31685 -19.9...</td>\n",
       "    </tr>\n",
       "    <tr>\n",
       "      <th>3</th>\n",
       "      <td>URN:FEATURE:DATA:gdh:ac4337b5-dca0-39a1-9a1f-b...</td>\n",
       "      <td>30972</td>\n",
       "      <td>PEPS_S2_L1C</td>\n",
       "      <td>Item (URN:FEATURE:DATA:gdh:ac4337b5-dca0-39a1-...</td>\n",
       "      <td>POLYGON ((159.96143 -20.88537, 160.10729 -20.8...</td>\n",
       "    </tr>\n",
       "    <tr>\n",
       "      <th>4</th>\n",
       "      <td>URN:FEATURE:DATA:gdh:a96dc6c4-8550-339a-8d95-a...</td>\n",
       "      <td>30972</td>\n",
       "      <td>PEPS_S2_L1C</td>\n",
       "      <td>Item (URN:FEATURE:DATA:gdh:a96dc6c4-8550-339a-...</td>\n",
       "      <td>POLYGON ((161.73641 -10.02803, 162.55115 -10.0...</td>\n",
       "    </tr>\n",
       "    <tr>\n",
       "      <th>...</th>\n",
       "      <td>...</td>\n",
       "      <td>...</td>\n",
       "      <td>...</td>\n",
       "      <td>...</td>\n",
       "      <td>...</td>\n",
       "    </tr>\n",
       "    <tr>\n",
       "      <th>847</th>\n",
       "      <td>URN:FEATURE:DATA:gdh:6089196a-2b30-396d-b9e3-1...</td>\n",
       "      <td>30972</td>\n",
       "      <td>PEPS_S2_L1C</td>\n",
       "      <td>Item (URN:FEATURE:DATA:gdh:6089196a-2b30-396d-...</td>\n",
       "      <td>POLYGON ((128.99917 -77.56443, 133.41004 -77.5...</td>\n",
       "    </tr>\n",
       "    <tr>\n",
       "      <th>848</th>\n",
       "      <td>URN:FEATURE:DATA:gdh:f2647d63-395a-3f41-8436-b...</td>\n",
       "      <td>30972</td>\n",
       "      <td>PEPS_S2_L1C</td>\n",
       "      <td>Item (URN:FEATURE:DATA:gdh:f2647d63-395a-3f41-...</td>\n",
       "      <td>POLYGON ((-172.46556 52.25345, -170.85700 52.2...</td>\n",
       "    </tr>\n",
       "    <tr>\n",
       "      <th>849</th>\n",
       "      <td>URN:FEATURE:DATA:gdh:b0eb078f-3b5b-3200-8aa5-c...</td>\n",
       "      <td>30972</td>\n",
       "      <td>PEPS_S2_L1C</td>\n",
       "      <td>Item (URN:FEATURE:DATA:gdh:b0eb078f-3b5b-3200-...</td>\n",
       "      <td>POLYGON ((175.19956 3.52883, 175.59973 3.52939...</td>\n",
       "    </tr>\n",
       "    <tr>\n",
       "      <th>850</th>\n",
       "      <td>URN:FEATURE:DATA:gdh:7c4bc98f-9088-30eb-bfd4-b...</td>\n",
       "      <td>30972</td>\n",
       "      <td>PEPS_S2_L1C</td>\n",
       "      <td>Item (URN:FEATURE:DATA:gdh:7c4bc98f-9088-30eb-...</td>\n",
       "      <td>POLYGON ((167.05275 -29.00034, 168.17876 -28.9...</td>\n",
       "    </tr>\n",
       "    <tr>\n",
       "      <th>851</th>\n",
       "      <td>URN:FEATURE:DATA:gdh:769975fa-4a98-3fd1-a774-1...</td>\n",
       "      <td>30972</td>\n",
       "      <td>PEPS_S2_L1C</td>\n",
       "      <td>Item (URN:FEATURE:DATA:gdh:769975fa-4a98-3fd1-...</td>\n",
       "      <td>POLYGON ((111.56813 -81.14807, 111.51180 -80.1...</td>\n",
       "    </tr>\n",
       "  </tbody>\n",
       "</table>\n",
       "<p>852 rows × 5 columns</p>\n",
       "</div>"
      ],
      "text/plain": [
       "                                                    id  \\\n",
       "0    URN:FEATURE:DATA:gdh:c72b550c-52f5-3fa0-8bc0-6...   \n",
       "1    URN:FEATURE:DATA:gdh:2327b73a-4cda-3340-8ff6-9...   \n",
       "2    URN:FEATURE:DATA:gdh:187a9026-dbc4-30fe-8a90-f...   \n",
       "3    URN:FEATURE:DATA:gdh:ac4337b5-dca0-39a1-9a1f-b...   \n",
       "4    URN:FEATURE:DATA:gdh:a96dc6c4-8550-339a-8d95-a...   \n",
       "..                                                 ...   \n",
       "847  URN:FEATURE:DATA:gdh:6089196a-2b30-396d-b9e3-1...   \n",
       "848  URN:FEATURE:DATA:gdh:f2647d63-395a-3f41-8436-b...   \n",
       "849  URN:FEATURE:DATA:gdh:b0eb078f-3b5b-3200-8aa5-c...   \n",
       "850  URN:FEATURE:DATA:gdh:7c4bc98f-9088-30eb-bfd4-b...   \n",
       "851  URN:FEATURE:DATA:gdh:769975fa-4a98-3fd1-a774-1...   \n",
       "\n",
       "     spaceborne:absoluteOrbitID   collection  \\\n",
       "0                         30972  PEPS_S2_L1C   \n",
       "1                         30972  PEPS_S2_L1C   \n",
       "2                         30972  PEPS_S2_L1C   \n",
       "3                         30972  PEPS_S2_L1C   \n",
       "4                         30972  PEPS_S2_L1C   \n",
       "..                          ...          ...   \n",
       "847                       30972  PEPS_S2_L1C   \n",
       "848                       30972  PEPS_S2_L1C   \n",
       "849                       30972  PEPS_S2_L1C   \n",
       "850                       30972  PEPS_S2_L1C   \n",
       "851                       30972  PEPS_S2_L1C   \n",
       "\n",
       "                                                  item  \\\n",
       "0    Item (URN:FEATURE:DATA:gdh:c72b550c-52f5-3fa0-...   \n",
       "1    Item (URN:FEATURE:DATA:gdh:2327b73a-4cda-3340-...   \n",
       "2    Item (URN:FEATURE:DATA:gdh:187a9026-dbc4-30fe-...   \n",
       "3    Item (URN:FEATURE:DATA:gdh:ac4337b5-dca0-39a1-...   \n",
       "4    Item (URN:FEATURE:DATA:gdh:a96dc6c4-8550-339a-...   \n",
       "..                                                 ...   \n",
       "847  Item (URN:FEATURE:DATA:gdh:6089196a-2b30-396d-...   \n",
       "848  Item (URN:FEATURE:DATA:gdh:f2647d63-395a-3f41-...   \n",
       "849  Item (URN:FEATURE:DATA:gdh:b0eb078f-3b5b-3200-...   \n",
       "850  Item (URN:FEATURE:DATA:gdh:7c4bc98f-9088-30eb-...   \n",
       "851  Item (URN:FEATURE:DATA:gdh:769975fa-4a98-3fd1-...   \n",
       "\n",
       "                                              geometry  \n",
       "0    POLYGON ((161.77151 -13.54330, 161.78322 -13.4...  \n",
       "1    POLYGON ((159.93635 -16.36716, 160.96413 -16.3...  \n",
       "2    POLYGON ((159.95583 -19.98223, 160.31685 -19.9...  \n",
       "3    POLYGON ((159.96143 -20.88537, 160.10729 -20.8...  \n",
       "4    POLYGON ((161.73641 -10.02803, 162.55115 -10.0...  \n",
       "..                                                 ...  \n",
       "847  POLYGON ((128.99917 -77.56443, 133.41004 -77.5...  \n",
       "848  POLYGON ((-172.46556 52.25345, -170.85700 52.2...  \n",
       "849  POLYGON ((175.19956 3.52883, 175.59973 3.52939...  \n",
       "850  POLYGON ((167.05275 -29.00034, 168.17876 -28.9...  \n",
       "851  POLYGON ((111.56813 -81.14807, 111.51180 -80.1...  \n",
       "\n",
       "[852 rows x 5 columns]"
      ]
     },
     "execution_count": 15,
     "metadata": {},
     "output_type": "execute_result"
    }
   ],
   "source": [
    "dataframe"
   ]
  },
  {
   "cell_type": "markdown",
   "id": "497eb26a-5ced-4896-b143-90f6502c2db4",
   "metadata": {},
   "source": [
    "Let's have a look around our items.\n",
    "\n",
    "A thing we could want to do is filter them by cloud cover, let's say between 39 and 40. But this column doesn't appear in the dataframe. To know which columns are available, use `item.list_available_keys()` on an `Item` object.\n",
    "\n"
   ]
  },
  {
   "cell_type": "code",
   "execution_count": 16,
   "id": "98f7aaf8-e484-423b-a33e-c7b25380c6a6",
   "metadata": {
    "tags": []
   },
   "outputs": [
    {
     "data": {
      "text/plain": [
       "{'accessService:endpointDescription',\n",
       " 'accessService:endpointURL',\n",
       " 'dataType',\n",
       " 'datetime',\n",
       " 'id',\n",
       " 'latest',\n",
       " 'processing:processingVersion',\n",
       " 'spaceborne:absoluteOrbitID',\n",
       " 'spaceborne:cloudCover',\n",
       " 'spaceborne:continentsID',\n",
       " 'spaceborne:keywords',\n",
       " 'spaceborne:orbitDirection',\n",
       " 'spaceborne:orbitID',\n",
       " 'spaceborne:political.continents',\n",
       " 'spaceborne:productLevel',\n",
       " 'spaceborne:productTimeliness',\n",
       " 'spaceborne:productType',\n",
       " 'spaceborne:references',\n",
       " 'spaceborne:s2TakeId',\n",
       " 'spaceborne:satellitePlatform',\n",
       " 'spaceborne:satelliteSensor',\n",
       " 'spaceborne:sensorMode',\n",
       " 'spaceborne:tile',\n",
       " 'spatial:bbox',\n",
       " 'temporal:endDate',\n",
       " 'temporal:startDate',\n",
       " 'versionInfo'}"
      ]
     },
     "execution_count": 16,
     "metadata": {},
     "output_type": "execute_result"
    }
   ],
   "source": [
    "items[0].list_available_keys()"
   ]
  },
  {
   "cell_type": "markdown",
   "id": "8f3688df-a3d6-4e11-9138-1ab2c4e1e958",
   "metadata": {},
   "source": [
    "We see we can use `spaceborne:cloudCover`. We can add it using `format_items`."
   ]
  },
  {
   "cell_type": "code",
   "execution_count": 17,
   "id": "8409f3fc-947a-4c31-99fc-2f9d5f6c347d",
   "metadata": {
    "tags": []
   },
   "outputs": [],
   "source": [
    "from pygeodes.utils.formatting import format_items\n",
    "\n",
    "new_dataframe = format_items(\n",
    "    dataframe, columns_to_add={\"spaceborne:cloudCover\"}\n",
    ")"
   ]
  },
  {
   "cell_type": "code",
   "execution_count": 18,
   "id": "631f0383-f25f-4293-8687-76d1b6eace21",
   "metadata": {
    "tags": []
   },
   "outputs": [
    {
     "data": {
      "text/html": [
       "<div>\n",
       "<style scoped>\n",
       "    .dataframe tbody tr th:only-of-type {\n",
       "        vertical-align: middle;\n",
       "    }\n",
       "\n",
       "    .dataframe tbody tr th {\n",
       "        vertical-align: top;\n",
       "    }\n",
       "\n",
       "    .dataframe thead th {\n",
       "        text-align: right;\n",
       "    }\n",
       "</style>\n",
       "<table border=\"1\" class=\"dataframe\">\n",
       "  <thead>\n",
       "    <tr style=\"text-align: right;\">\n",
       "      <th></th>\n",
       "      <th>id</th>\n",
       "      <th>spaceborne:absoluteOrbitID</th>\n",
       "      <th>collection</th>\n",
       "      <th>item</th>\n",
       "      <th>geometry</th>\n",
       "      <th>spaceborne:cloudCover</th>\n",
       "    </tr>\n",
       "  </thead>\n",
       "  <tbody>\n",
       "    <tr>\n",
       "      <th>0</th>\n",
       "      <td>URN:FEATURE:DATA:gdh:c72b550c-52f5-3fa0-8bc0-6...</td>\n",
       "      <td>30972</td>\n",
       "      <td>PEPS_S2_L1C</td>\n",
       "      <td>Item (URN:FEATURE:DATA:gdh:c72b550c-52f5-3fa0-...</td>\n",
       "      <td>POLYGON ((161.77151 -13.54330, 161.78322 -13.4...</td>\n",
       "      <td>26.963872</td>\n",
       "    </tr>\n",
       "    <tr>\n",
       "      <th>1</th>\n",
       "      <td>URN:FEATURE:DATA:gdh:2327b73a-4cda-3340-8ff6-9...</td>\n",
       "      <td>30972</td>\n",
       "      <td>PEPS_S2_L1C</td>\n",
       "      <td>Item (URN:FEATURE:DATA:gdh:2327b73a-4cda-3340-...</td>\n",
       "      <td>POLYGON ((159.93635 -16.36716, 160.96413 -16.3...</td>\n",
       "      <td>30.640658</td>\n",
       "    </tr>\n",
       "    <tr>\n",
       "      <th>2</th>\n",
       "      <td>URN:FEATURE:DATA:gdh:187a9026-dbc4-30fe-8a90-f...</td>\n",
       "      <td>30972</td>\n",
       "      <td>PEPS_S2_L1C</td>\n",
       "      <td>Item (URN:FEATURE:DATA:gdh:187a9026-dbc4-30fe-...</td>\n",
       "      <td>POLYGON ((159.95583 -19.98223, 160.31685 -19.9...</td>\n",
       "      <td>99.388031</td>\n",
       "    </tr>\n",
       "    <tr>\n",
       "      <th>3</th>\n",
       "      <td>URN:FEATURE:DATA:gdh:ac4337b5-dca0-39a1-9a1f-b...</td>\n",
       "      <td>30972</td>\n",
       "      <td>PEPS_S2_L1C</td>\n",
       "      <td>Item (URN:FEATURE:DATA:gdh:ac4337b5-dca0-39a1-...</td>\n",
       "      <td>POLYGON ((159.96143 -20.88537, 160.10729 -20.8...</td>\n",
       "      <td>81.709039</td>\n",
       "    </tr>\n",
       "    <tr>\n",
       "      <th>4</th>\n",
       "      <td>URN:FEATURE:DATA:gdh:a96dc6c4-8550-339a-8d95-a...</td>\n",
       "      <td>30972</td>\n",
       "      <td>PEPS_S2_L1C</td>\n",
       "      <td>Item (URN:FEATURE:DATA:gdh:a96dc6c4-8550-339a-...</td>\n",
       "      <td>POLYGON ((161.73641 -10.02803, 162.55115 -10.0...</td>\n",
       "      <td>96.671742</td>\n",
       "    </tr>\n",
       "    <tr>\n",
       "      <th>...</th>\n",
       "      <td>...</td>\n",
       "      <td>...</td>\n",
       "      <td>...</td>\n",
       "      <td>...</td>\n",
       "      <td>...</td>\n",
       "      <td>...</td>\n",
       "    </tr>\n",
       "    <tr>\n",
       "      <th>847</th>\n",
       "      <td>URN:FEATURE:DATA:gdh:6089196a-2b30-396d-b9e3-1...</td>\n",
       "      <td>30972</td>\n",
       "      <td>PEPS_S2_L1C</td>\n",
       "      <td>Item (URN:FEATURE:DATA:gdh:6089196a-2b30-396d-...</td>\n",
       "      <td>POLYGON ((128.99917 -77.56443, 133.41004 -77.5...</td>\n",
       "      <td>78.515004</td>\n",
       "    </tr>\n",
       "    <tr>\n",
       "      <th>848</th>\n",
       "      <td>URN:FEATURE:DATA:gdh:f2647d63-395a-3f41-8436-b...</td>\n",
       "      <td>30972</td>\n",
       "      <td>PEPS_S2_L1C</td>\n",
       "      <td>Item (URN:FEATURE:DATA:gdh:f2647d63-395a-3f41-...</td>\n",
       "      <td>POLYGON ((-172.46556 52.25345, -170.85700 52.2...</td>\n",
       "      <td>98.938786</td>\n",
       "    </tr>\n",
       "    <tr>\n",
       "      <th>849</th>\n",
       "      <td>URN:FEATURE:DATA:gdh:b0eb078f-3b5b-3200-8aa5-c...</td>\n",
       "      <td>30972</td>\n",
       "      <td>PEPS_S2_L1C</td>\n",
       "      <td>Item (URN:FEATURE:DATA:gdh:b0eb078f-3b5b-3200-...</td>\n",
       "      <td>POLYGON ((175.19956 3.52883, 175.59973 3.52939...</td>\n",
       "      <td>98.253387</td>\n",
       "    </tr>\n",
       "    <tr>\n",
       "      <th>850</th>\n",
       "      <td>URN:FEATURE:DATA:gdh:7c4bc98f-9088-30eb-bfd4-b...</td>\n",
       "      <td>30972</td>\n",
       "      <td>PEPS_S2_L1C</td>\n",
       "      <td>Item (URN:FEATURE:DATA:gdh:7c4bc98f-9088-30eb-...</td>\n",
       "      <td>POLYGON ((167.05275 -29.00034, 168.17876 -28.9...</td>\n",
       "      <td>100.000000</td>\n",
       "    </tr>\n",
       "    <tr>\n",
       "      <th>851</th>\n",
       "      <td>URN:FEATURE:DATA:gdh:769975fa-4a98-3fd1-a774-1...</td>\n",
       "      <td>30972</td>\n",
       "      <td>PEPS_S2_L1C</td>\n",
       "      <td>Item (URN:FEATURE:DATA:gdh:769975fa-4a98-3fd1-...</td>\n",
       "      <td>POLYGON ((111.56813 -81.14807, 111.51180 -80.1...</td>\n",
       "      <td>0.441100</td>\n",
       "    </tr>\n",
       "  </tbody>\n",
       "</table>\n",
       "<p>852 rows × 6 columns</p>\n",
       "</div>"
      ],
      "text/plain": [
       "                                                    id  \\\n",
       "0    URN:FEATURE:DATA:gdh:c72b550c-52f5-3fa0-8bc0-6...   \n",
       "1    URN:FEATURE:DATA:gdh:2327b73a-4cda-3340-8ff6-9...   \n",
       "2    URN:FEATURE:DATA:gdh:187a9026-dbc4-30fe-8a90-f...   \n",
       "3    URN:FEATURE:DATA:gdh:ac4337b5-dca0-39a1-9a1f-b...   \n",
       "4    URN:FEATURE:DATA:gdh:a96dc6c4-8550-339a-8d95-a...   \n",
       "..                                                 ...   \n",
       "847  URN:FEATURE:DATA:gdh:6089196a-2b30-396d-b9e3-1...   \n",
       "848  URN:FEATURE:DATA:gdh:f2647d63-395a-3f41-8436-b...   \n",
       "849  URN:FEATURE:DATA:gdh:b0eb078f-3b5b-3200-8aa5-c...   \n",
       "850  URN:FEATURE:DATA:gdh:7c4bc98f-9088-30eb-bfd4-b...   \n",
       "851  URN:FEATURE:DATA:gdh:769975fa-4a98-3fd1-a774-1...   \n",
       "\n",
       "     spaceborne:absoluteOrbitID   collection  \\\n",
       "0                         30972  PEPS_S2_L1C   \n",
       "1                         30972  PEPS_S2_L1C   \n",
       "2                         30972  PEPS_S2_L1C   \n",
       "3                         30972  PEPS_S2_L1C   \n",
       "4                         30972  PEPS_S2_L1C   \n",
       "..                          ...          ...   \n",
       "847                       30972  PEPS_S2_L1C   \n",
       "848                       30972  PEPS_S2_L1C   \n",
       "849                       30972  PEPS_S2_L1C   \n",
       "850                       30972  PEPS_S2_L1C   \n",
       "851                       30972  PEPS_S2_L1C   \n",
       "\n",
       "                                                  item  \\\n",
       "0    Item (URN:FEATURE:DATA:gdh:c72b550c-52f5-3fa0-...   \n",
       "1    Item (URN:FEATURE:DATA:gdh:2327b73a-4cda-3340-...   \n",
       "2    Item (URN:FEATURE:DATA:gdh:187a9026-dbc4-30fe-...   \n",
       "3    Item (URN:FEATURE:DATA:gdh:ac4337b5-dca0-39a1-...   \n",
       "4    Item (URN:FEATURE:DATA:gdh:a96dc6c4-8550-339a-...   \n",
       "..                                                 ...   \n",
       "847  Item (URN:FEATURE:DATA:gdh:6089196a-2b30-396d-...   \n",
       "848  Item (URN:FEATURE:DATA:gdh:f2647d63-395a-3f41-...   \n",
       "849  Item (URN:FEATURE:DATA:gdh:b0eb078f-3b5b-3200-...   \n",
       "850  Item (URN:FEATURE:DATA:gdh:7c4bc98f-9088-30eb-...   \n",
       "851  Item (URN:FEATURE:DATA:gdh:769975fa-4a98-3fd1-...   \n",
       "\n",
       "                                              geometry  spaceborne:cloudCover  \n",
       "0    POLYGON ((161.77151 -13.54330, 161.78322 -13.4...              26.963872  \n",
       "1    POLYGON ((159.93635 -16.36716, 160.96413 -16.3...              30.640658  \n",
       "2    POLYGON ((159.95583 -19.98223, 160.31685 -19.9...              99.388031  \n",
       "3    POLYGON ((159.96143 -20.88537, 160.10729 -20.8...              81.709039  \n",
       "4    POLYGON ((161.73641 -10.02803, 162.55115 -10.0...              96.671742  \n",
       "..                                                 ...                    ...  \n",
       "847  POLYGON ((128.99917 -77.56443, 133.41004 -77.5...              78.515004  \n",
       "848  POLYGON ((-172.46556 52.25345, -170.85700 52.2...              98.938786  \n",
       "849  POLYGON ((175.19956 3.52883, 175.59973 3.52939...              98.253387  \n",
       "850  POLYGON ((167.05275 -29.00034, 168.17876 -28.9...             100.000000  \n",
       "851  POLYGON ((111.56813 -81.14807, 111.51180 -80.1...               0.441100  \n",
       "\n",
       "[852 rows x 6 columns]"
      ]
     },
     "execution_count": 18,
     "metadata": {},
     "output_type": "execute_result"
    }
   ],
   "source": [
    "new_dataframe"
   ]
  },
  {
   "cell_type": "markdown",
   "id": "c7e4aaa8-d077-4521-bcef-98b0ac2f1351",
   "metadata": {},
   "source": [
    "We've got our new dataframe. Let's filter :"
   ]
  },
  {
   "cell_type": "code",
   "execution_count": 19,
   "id": "119c7bd4-870c-4afc-90dc-4ae7f9faf515",
   "metadata": {
    "tags": []
   },
   "outputs": [],
   "source": [
    "filtered = new_dataframe[\n",
    "    (new_dataframe[\"spaceborne:cloudCover\"] <= 40)\n",
    "    & (new_dataframe[\"spaceborne:cloudCover\"] >= 39)\n",
    "]"
   ]
  },
  {
   "cell_type": "code",
   "execution_count": 20,
   "id": "07a0e4ae-3f15-4440-9d58-69440c88443a",
   "metadata": {
    "tags": []
   },
   "outputs": [
    {
     "data": {
      "text/html": [
       "<div>\n",
       "<style scoped>\n",
       "    .dataframe tbody tr th:only-of-type {\n",
       "        vertical-align: middle;\n",
       "    }\n",
       "\n",
       "    .dataframe tbody tr th {\n",
       "        vertical-align: top;\n",
       "    }\n",
       "\n",
       "    .dataframe thead th {\n",
       "        text-align: right;\n",
       "    }\n",
       "</style>\n",
       "<table border=\"1\" class=\"dataframe\">\n",
       "  <thead>\n",
       "    <tr style=\"text-align: right;\">\n",
       "      <th></th>\n",
       "      <th>id</th>\n",
       "      <th>spaceborne:absoluteOrbitID</th>\n",
       "      <th>collection</th>\n",
       "      <th>item</th>\n",
       "      <th>geometry</th>\n",
       "      <th>spaceborne:cloudCover</th>\n",
       "    </tr>\n",
       "  </thead>\n",
       "  <tbody>\n",
       "    <tr>\n",
       "      <th>83</th>\n",
       "      <td>URN:FEATURE:DATA:gdh:e4c321cd-3e90-3a97-a357-5...</td>\n",
       "      <td>30972</td>\n",
       "      <td>PEPS_S2_L1C</td>\n",
       "      <td>Item (URN:FEATURE:DATA:gdh:e4c321cd-3e90-3a97-...</td>\n",
       "      <td>POLYGON ((170.99981 -15.46502, 171.41679 -15.4...</td>\n",
       "      <td>39.599036</td>\n",
       "    </tr>\n",
       "    <tr>\n",
       "      <th>461</th>\n",
       "      <td>URN:FEATURE:DATA:gdh:c10655c6-e1ed-3173-a460-8...</td>\n",
       "      <td>30972</td>\n",
       "      <td>PEPS_S2_L1C</td>\n",
       "      <td>Item (URN:FEATURE:DATA:gdh:c10655c6-e1ed-3173-...</td>\n",
       "      <td>POLYGON ((144.49933 -66.76234, 145.76351 -66.7...</td>\n",
       "      <td>39.071231</td>\n",
       "    </tr>\n",
       "    <tr>\n",
       "      <th>530</th>\n",
       "      <td>URN:FEATURE:DATA:gdh:20afef16-f166-3e08-ba5e-c...</td>\n",
       "      <td>30972</td>\n",
       "      <td>PEPS_S2_L1C</td>\n",
       "      <td>Item (URN:FEATURE:DATA:gdh:20afef16-f166-3e08-...</td>\n",
       "      <td>POLYGON ((158.07383 -29.01282, 158.08245 -28.0...</td>\n",
       "      <td>39.539162</td>\n",
       "    </tr>\n",
       "    <tr>\n",
       "      <th>721</th>\n",
       "      <td>URN:FEATURE:DATA:gdh:9635442b-1548-39e7-9095-1...</td>\n",
       "      <td>30972</td>\n",
       "      <td>PEPS_S2_L1C</td>\n",
       "      <td>Item (URN:FEATURE:DATA:gdh:9635442b-1548-39e7-...</td>\n",
       "      <td>POLYGON ((161.75303 -11.83511, 162.15183 -11.8...</td>\n",
       "      <td>39.921501</td>\n",
       "    </tr>\n",
       "  </tbody>\n",
       "</table>\n",
       "</div>"
      ],
      "text/plain": [
       "                                                    id  \\\n",
       "83   URN:FEATURE:DATA:gdh:e4c321cd-3e90-3a97-a357-5...   \n",
       "461  URN:FEATURE:DATA:gdh:c10655c6-e1ed-3173-a460-8...   \n",
       "530  URN:FEATURE:DATA:gdh:20afef16-f166-3e08-ba5e-c...   \n",
       "721  URN:FEATURE:DATA:gdh:9635442b-1548-39e7-9095-1...   \n",
       "\n",
       "     spaceborne:absoluteOrbitID   collection  \\\n",
       "83                        30972  PEPS_S2_L1C   \n",
       "461                       30972  PEPS_S2_L1C   \n",
       "530                       30972  PEPS_S2_L1C   \n",
       "721                       30972  PEPS_S2_L1C   \n",
       "\n",
       "                                                  item  \\\n",
       "83   Item (URN:FEATURE:DATA:gdh:e4c321cd-3e90-3a97-...   \n",
       "461  Item (URN:FEATURE:DATA:gdh:c10655c6-e1ed-3173-...   \n",
       "530  Item (URN:FEATURE:DATA:gdh:20afef16-f166-3e08-...   \n",
       "721  Item (URN:FEATURE:DATA:gdh:9635442b-1548-39e7-...   \n",
       "\n",
       "                                              geometry  spaceborne:cloudCover  \n",
       "83   POLYGON ((170.99981 -15.46502, 171.41679 -15.4...              39.599036  \n",
       "461  POLYGON ((144.49933 -66.76234, 145.76351 -66.7...              39.071231  \n",
       "530  POLYGON ((158.07383 -29.01282, 158.08245 -28.0...              39.539162  \n",
       "721  POLYGON ((161.75303 -11.83511, 162.15183 -11.8...              39.921501  "
      ]
     },
     "execution_count": 20,
     "metadata": {},
     "output_type": "execute_result"
    }
   ],
   "source": [
    "filtered"
   ]
  },
  {
   "cell_type": "markdown",
   "id": "cb0b2f02-92bb-4119-93c7-2c77db6f7675",
   "metadata": {},
   "source": [
    "Let's plot these items : "
   ]
  },
  {
   "cell_type": "code",
   "execution_count": 21,
   "id": "96b2dc90-f225-4a5a-b694-a23860a3f955",
   "metadata": {
    "tags": []
   },
   "outputs": [],
   "source": [
    "m = filtered.explore()"
   ]
  },
  {
   "cell_type": "code",
   "execution_count": 22,
   "id": "d3b3b801-15d6-408a-8520-0e29b1728ab6",
   "metadata": {
    "tags": []
   },
   "outputs": [
    {
     "data": {
      "text/html": [
       "<div style=\"width:100%;\"><div style=\"position:relative;width:100%;height:0;padding-bottom:60%;\"><span style=\"color:#565656\">Make this Notebook Trusted to load map: File -> Trust Notebook</span><iframe srcdoc=\"&lt;!DOCTYPE html&gt;\n",
       "&lt;html&gt;\n",
       "&lt;head&gt;\n",
       "    \n",
       "    &lt;meta http-equiv=&quot;content-type&quot; content=&quot;text/html; charset=UTF-8&quot; /&gt;\n",
       "    \n",
       "        &lt;script&gt;\n",
       "            L_NO_TOUCH = false;\n",
       "            L_DISABLE_3D = false;\n",
       "        &lt;/script&gt;\n",
       "    \n",
       "    &lt;style&gt;html, body {width: 100%;height: 100%;margin: 0;padding: 0;}&lt;/style&gt;\n",
       "    &lt;style&gt;#map {position:absolute;top:0;bottom:0;right:0;left:0;}&lt;/style&gt;\n",
       "    &lt;script src=&quot;https://cdn.jsdelivr.net/npm/leaflet@1.9.3/dist/leaflet.js&quot;&gt;&lt;/script&gt;\n",
       "    &lt;script src=&quot;https://code.jquery.com/jquery-3.7.1.min.js&quot;&gt;&lt;/script&gt;\n",
       "    &lt;script src=&quot;https://cdn.jsdelivr.net/npm/bootstrap@5.2.2/dist/js/bootstrap.bundle.min.js&quot;&gt;&lt;/script&gt;\n",
       "    &lt;script src=&quot;https://cdnjs.cloudflare.com/ajax/libs/Leaflet.awesome-markers/2.0.2/leaflet.awesome-markers.js&quot;&gt;&lt;/script&gt;\n",
       "    &lt;link rel=&quot;stylesheet&quot; href=&quot;https://cdn.jsdelivr.net/npm/leaflet@1.9.3/dist/leaflet.css&quot;/&gt;\n",
       "    &lt;link rel=&quot;stylesheet&quot; href=&quot;https://cdn.jsdelivr.net/npm/bootstrap@5.2.2/dist/css/bootstrap.min.css&quot;/&gt;\n",
       "    &lt;link rel=&quot;stylesheet&quot; href=&quot;https://netdna.bootstrapcdn.com/bootstrap/3.0.0/css/bootstrap-glyphicons.css&quot;/&gt;\n",
       "    &lt;link rel=&quot;stylesheet&quot; href=&quot;https://cdn.jsdelivr.net/npm/@fortawesome/fontawesome-free@6.2.0/css/all.min.css&quot;/&gt;\n",
       "    &lt;link rel=&quot;stylesheet&quot; href=&quot;https://cdnjs.cloudflare.com/ajax/libs/Leaflet.awesome-markers/2.0.2/leaflet.awesome-markers.css&quot;/&gt;\n",
       "    &lt;link rel=&quot;stylesheet&quot; href=&quot;https://cdn.jsdelivr.net/gh/python-visualization/folium/folium/templates/leaflet.awesome.rotate.min.css&quot;/&gt;\n",
       "    \n",
       "            &lt;meta name=&quot;viewport&quot; content=&quot;width=device-width,\n",
       "                initial-scale=1.0, maximum-scale=1.0, user-scalable=no&quot; /&gt;\n",
       "            &lt;style&gt;\n",
       "                #map_56425e1d9eae301563ca7d3b1d953763 {\n",
       "                    position: relative;\n",
       "                    width: 100.0%;\n",
       "                    height: 100.0%;\n",
       "                    left: 0.0%;\n",
       "                    top: 0.0%;\n",
       "                }\n",
       "                .leaflet-container { font-size: 1rem; }\n",
       "            &lt;/style&gt;\n",
       "        \n",
       "    \n",
       "                    &lt;style&gt;\n",
       "                        .foliumtooltip {\n",
       "                            \n",
       "                        }\n",
       "                       .foliumtooltip table{\n",
       "                            margin: auto;\n",
       "                        }\n",
       "                        .foliumtooltip tr{\n",
       "                            text-align: left;\n",
       "                        }\n",
       "                        .foliumtooltip th{\n",
       "                            padding: 2px; padding-right: 8px;\n",
       "                        }\n",
       "                    &lt;/style&gt;\n",
       "            \n",
       "&lt;/head&gt;\n",
       "&lt;body&gt;\n",
       "    \n",
       "    \n",
       "            &lt;div class=&quot;folium-map&quot; id=&quot;map_56425e1d9eae301563ca7d3b1d953763&quot; &gt;&lt;/div&gt;\n",
       "        \n",
       "&lt;/body&gt;\n",
       "&lt;script&gt;\n",
       "    \n",
       "    \n",
       "            var map_56425e1d9eae301563ca7d3b1d953763 = L.map(\n",
       "                &quot;map_56425e1d9eae301563ca7d3b1d953763&quot;,\n",
       "                {\n",
       "                    center: [-38.799489463581004, 157.98487893012],\n",
       "                    crs: L.CRS.EPSG3857,\n",
       "                    zoom: 10,\n",
       "                    zoomControl: true,\n",
       "                    preferCanvas: false,\n",
       "                }\n",
       "            );\n",
       "            L.control.scale().addTo(map_56425e1d9eae301563ca7d3b1d953763);\n",
       "\n",
       "            \n",
       "\n",
       "        \n",
       "    \n",
       "            var tile_layer_a9af49a78b5f7be7a36ccee9fb9d078b = L.tileLayer(\n",
       "                &quot;https://tile.openstreetmap.org/{z}/{x}/{y}.png&quot;,\n",
       "                {&quot;attribution&quot;: &quot;\\u0026copy; \\u003ca href=\\&quot;https://www.openstreetmap.org/copyright\\&quot;\\u003eOpenStreetMap\\u003c/a\\u003e contributors&quot;, &quot;detectRetina&quot;: false, &quot;maxNativeZoom&quot;: 19, &quot;maxZoom&quot;: 19, &quot;minZoom&quot;: 0, &quot;noWrap&quot;: false, &quot;opacity&quot;: 1, &quot;subdomains&quot;: &quot;abc&quot;, &quot;tms&quot;: false}\n",
       "            );\n",
       "        \n",
       "    \n",
       "            tile_layer_a9af49a78b5f7be7a36ccee9fb9d078b.addTo(map_56425e1d9eae301563ca7d3b1d953763);\n",
       "        \n",
       "    \n",
       "            map_56425e1d9eae301563ca7d3b1d953763.fitBounds(\n",
       "                [[-66.762344916643, 144.49933152198], [-10.836634010519, 171.47042633826]],\n",
       "                {}\n",
       "            );\n",
       "        \n",
       "    \n",
       "        function geo_json_cb5a6c5ae7a5ec8b0a11aa9ee7228a74_styler(feature) {\n",
       "            switch(feature.id) {\n",
       "                default:\n",
       "                    return {&quot;fillOpacity&quot;: 0.5, &quot;weight&quot;: 2};\n",
       "            }\n",
       "        }\n",
       "        function geo_json_cb5a6c5ae7a5ec8b0a11aa9ee7228a74_highlighter(feature) {\n",
       "            switch(feature.id) {\n",
       "                default:\n",
       "                    return {&quot;fillOpacity&quot;: 0.75};\n",
       "            }\n",
       "        }\n",
       "        function geo_json_cb5a6c5ae7a5ec8b0a11aa9ee7228a74_pointToLayer(feature, latlng) {\n",
       "            var opts = {&quot;bubblingMouseEvents&quot;: true, &quot;color&quot;: &quot;#3388ff&quot;, &quot;dashArray&quot;: null, &quot;dashOffset&quot;: null, &quot;fill&quot;: true, &quot;fillColor&quot;: &quot;#3388ff&quot;, &quot;fillOpacity&quot;: 0.2, &quot;fillRule&quot;: &quot;evenodd&quot;, &quot;lineCap&quot;: &quot;round&quot;, &quot;lineJoin&quot;: &quot;round&quot;, &quot;opacity&quot;: 1.0, &quot;radius&quot;: 2, &quot;stroke&quot;: true, &quot;weight&quot;: 3};\n",
       "            \n",
       "            let style = geo_json_cb5a6c5ae7a5ec8b0a11aa9ee7228a74_styler(feature)\n",
       "            Object.assign(opts, style)\n",
       "            \n",
       "            return new L.CircleMarker(latlng, opts)\n",
       "        }\n",
       "\n",
       "        function geo_json_cb5a6c5ae7a5ec8b0a11aa9ee7228a74_onEachFeature(feature, layer) {\n",
       "            layer.on({\n",
       "                mouseout: function(e) {\n",
       "                    if(typeof e.target.setStyle === &quot;function&quot;){\n",
       "                            geo_json_cb5a6c5ae7a5ec8b0a11aa9ee7228a74.resetStyle(e.target);\n",
       "                    }\n",
       "                },\n",
       "                mouseover: function(e) {\n",
       "                    if(typeof e.target.setStyle === &quot;function&quot;){\n",
       "                        const highlightStyle = geo_json_cb5a6c5ae7a5ec8b0a11aa9ee7228a74_highlighter(e.target.feature)\n",
       "                        e.target.setStyle(highlightStyle);\n",
       "                    }\n",
       "                },\n",
       "            });\n",
       "        };\n",
       "        var geo_json_cb5a6c5ae7a5ec8b0a11aa9ee7228a74 = L.geoJson(null, {\n",
       "                onEachFeature: geo_json_cb5a6c5ae7a5ec8b0a11aa9ee7228a74_onEachFeature,\n",
       "            \n",
       "                style: geo_json_cb5a6c5ae7a5ec8b0a11aa9ee7228a74_styler,\n",
       "                pointToLayer: geo_json_cb5a6c5ae7a5ec8b0a11aa9ee7228a74_pointToLayer,\n",
       "        });\n",
       "\n",
       "        function geo_json_cb5a6c5ae7a5ec8b0a11aa9ee7228a74_add (data) {\n",
       "            geo_json_cb5a6c5ae7a5ec8b0a11aa9ee7228a74\n",
       "                .addData(data);\n",
       "        }\n",
       "            geo_json_cb5a6c5ae7a5ec8b0a11aa9ee7228a74_add({&quot;bbox&quot;: [144.49933152198, -66.762344916643, 171.47042633826, -10.836634010519], &quot;features&quot;: [{&quot;bbox&quot;: [170.99981355738, -15.465017044255, 171.47042633826, -15.10342586669], &quot;geometry&quot;: {&quot;coordinates&quot;: [[[170.99981355738, -15.465017044255], [171.41679431512, -15.464054263786], [171.43759973074, -15.371267284933], [171.47042633826, -15.224730627274], [171.30004637747, -15.179091499567], [171.23970085188, -15.163199243925], [171.23975867859, -15.162942429127], [171.23028867598, -15.16040573023], [171.23024022454, -15.160620866755], [171.2299250137, -15.160543667325], [171.22986260203, -15.160820838439], [171.01827404118, -15.108906043118], [171.01845174025, -15.108120644018], [171.01828851545, -15.108080279522], [171.01828910339, -15.108077681185], [171.01814686718, -15.108042437028], [171.01815609718, -15.108001639201], [170.9998138693, -15.10342586669], [170.99981355738, -15.465017044255]]], &quot;type&quot;: &quot;Polygon&quot;}, &quot;id&quot;: &quot;83&quot;, &quot;properties&quot;: {&quot;collection&quot;: &quot;PEPS_S2_L1C&quot;, &quot;id&quot;: &quot;URN:FEATURE:DATA:gdh:e4c321cd-3e90-3a97-a357-5d64ca3e8e49:V1&quot;, &quot;item&quot;: {&quot;assets&quot;: {&quot;2023/02/09/S2B/S2B_MSIL1C_20230209T230019_N0509_R058_T59LND_20230210T001018_quicklook.jpg&quot;: {&quot;description&quot;: &quot;File size: 13106 bytes\\n\\nIs reference: false\\n\\nIs online: true\\n\\nDatatype: QUICKLOOK_SD\\n\\nChecksum MD5: ccc9b9c1afeb647239b421ae5f5c5249&quot;, &quot;href&quot;: &quot;https://geodes-portal.cnes.fr/api/v1/rs-catalog/downloads/URN:FEATURE:DATA:gdh:e4c321cd-3e90-3a97-a357-5d64ca3e8e49:V1/files/ccc9b9c1afeb647239b421ae5f5c5249?scope=gdh&quot;, &quot;roles&quot;: [&quot;overview&quot;], &quot;title&quot;: &quot;2023/02/09/S2B/S2B_MSIL1C_20230209T230019_N0509_R058_T59LND_20230210T001018_quicklook.jpg&quot;, &quot;type&quot;: &quot;image/jpeg&quot;}, &quot;S2B_MSIL1C_20230209T230019_N0509_R058_T59LND_20230210T001018.zip&quot;: {&quot;description&quot;: &quot;File size: 124168234 bytes\\n\\nIs reference: false\\n\\nIs online: true\\n\\nDatatype: RAWDATA\\n\\nChecksum MD5: b078b970da30ca98e130e97def37f90a&quot;, &quot;href&quot;: &quot;https://geodes-portal.cnes.fr/api/v1/rs-catalog/downloads/URN:FEATURE:DATA:gdh:e4c321cd-3e90-3a97-a357-5d64ca3e8e49:V1/files/b078b970da30ca98e130e97def37f90a?scope=gdh&quot;, &quot;roles&quot;: [&quot;data&quot;], &quot;title&quot;: &quot;S2B_MSIL1C_20230209T230019_N0509_R058_T59LND_20230210T001018.zip&quot;, &quot;type&quot;: &quot;application/zip&quot;}}, &quot;bbox&quot;: [170.99981355738, -15.465017044255, 171.47042633826, -15.10342586669], &quot;centroid&quot;: {&quot;lat&quot;: -15.308405004993551, &quot;lon&quot;: 171.20826002410956}, &quot;collection&quot;: &quot;PEPS_S2_L1C&quot;, &quot;geometry&quot;: {&quot;coordinates&quot;: [[[170.99981355738, -15.465017044255], [171.41679431512, -15.464054263786], [171.43759973074, -15.371267284933], [171.47042633826, -15.224730627274], [171.30004637747, -15.179091499567], [171.23970085188, -15.163199243925], [171.23975867859, -15.162942429127], [171.23028867598, -15.16040573023], [171.23024022454, -15.160620866755], [171.2299250137, -15.160543667325], [171.22986260203, -15.160820838439], [171.01827404118, -15.108906043118], [171.01845174025, -15.108120644018], [171.01828851545, -15.108080279522], [171.01828910339, -15.108077681185], [171.01814686718, -15.108042437028], [171.01815609718, -15.108001639201], [170.9998138693, -15.10342586669], [170.99981355738, -15.465017044255]]], &quot;type&quot;: &quot;Polygon&quot;}, &quot;id&quot;: &quot;URN:FEATURE:DATA:gdh:e4c321cd-3e90-3a97-a357-5d64ca3e8e49:V1&quot;, &quot;links&quot;: [{&quot;href&quot;: &quot;https://gdh-portal-prod.cnes.fr/api/v1/rs-catalog/stac?scope=gdh&quot;, &quot;rel&quot;: &quot;root&quot;, &quot;title&quot;: &quot;STAC gdh root&quot;, &quot;type&quot;: &quot;application/json&quot;}, {&quot;href&quot;: &quot;https://gdh-portal-prod.cnes.fr/api/v1/rs-catalog/stac/collections/PEPS_S2_L1C?scope=gdh&quot;, &quot;rel&quot;: &quot;collection&quot;, &quot;title&quot;: &quot;Item collection&quot;, &quot;type&quot;: &quot;application/json&quot;}, {&quot;href&quot;: &quot;https://gdh-portal-prod.cnes.fr/api/v1/rs-catalog/stac/collections/PEPS_S2_L1C/items/URN:FEATURE:DATA:gdh:e4c321cd-3e90-3a97-a357-5d64ca3e8e49:V1?scope=gdh&quot;, &quot;rel&quot;: &quot;self&quot;, &quot;title&quot;: &quot;URN:FEATURE:DATA:gdh:e4c321cd-3e90-3a97-a357-5d64ca3e8e49:V1&quot;, &quot;type&quot;: &quot;application/json&quot;}, {&quot;href&quot;: &quot;https://spdx.org/licenses/Apache-2.0.html&quot;, &quot;rel&quot;: &quot;license&quot;, &quot;title&quot;: &quot;Apache License 2.0&quot;, &quot;type&quot;: &quot;application/html&quot;}, {&quot;href&quot;: &quot;https://geodes-portal.cnes.fr/api/v1/rs-catalog/stac?scope/gdh&quot;, &quot;rel&quot;: &quot;root&quot;, &quot;title&quot;: &quot;STAC gdh root&quot;, &quot;type&quot;: &quot;application/json&quot;}], &quot;properties&quot;: {&quot;accessService:endpointDescription&quot;: &quot;Link to product in datalake&quot;, &quot;accessService:endpointURL&quot;: &quot;https://s3.datalake.cnes.fr/sentinel2-l1c/59/L/ND/2023/02/09/S2B_MSIL1C_20230209T230019_N0509_R058_T59LND_20230210T001018.zip&quot;, &quot;dataType&quot;: &quot;PEPS_S2_L1C&quot;, &quot;datetime&quot;: &quot;2023-02-10T01:20:14.377000Z&quot;, &quot;latest&quot;: true, &quot;processing:processingVersion&quot;: &quot;05.09&quot;, &quot;spaceborne:absoluteOrbitID&quot;: 30972, &quot;spaceborne:cloudCover&quot;: 39.5990357465109, &quot;spaceborne:continentsID&quot;: [], &quot;spaceborne:keywords&quot;: [&quot;location:tropical&quot;, &quot;location:southern&quot;, &quot;season:summer&quot;], &quot;spaceborne:orbitDirection&quot;: &quot;Descending&quot;, &quot;spaceborne:orbitID&quot;: 58, &quot;spaceborne:political&quot;: {&quot;continents&quot;: []}, &quot;spaceborne:productLevel&quot;: &quot;L1C&quot;, &quot;spaceborne:productTimeliness&quot;: &quot;Nominal&quot;, &quot;spaceborne:productType&quot;: &quot;S2MSI1C&quot;, &quot;spaceborne:references&quot;: [{&quot;author&quot;: &quot;Natural Earth&quot;, &quot;dataset&quot;: &quot;Coastline&quot;, &quot;license&quot;: &quot;Free of Charge&quot;, &quot;url&quot;: &quot;http://www.naturalearthdata.com/downloads/10m-physical-vectors/10m-coastline/&quot;}, {&quot;author&quot;: &quot;Natural Earth&quot;, &quot;dataset&quot;: &quot;Admin level 0 - Countries&quot;, &quot;license&quot;: &quot;Free of Charge&quot;, &quot;url&quot;: &quot;http://www.naturalearthdata.com/downloads/10m-cultural-vectors/10m-admin-0-countries/&quot;}, {&quot;author&quot;: &quot;Natural Earth&quot;, &quot;dataset&quot;: &quot;Admin level 1 - States, Provinces&quot;, &quot;license&quot;: &quot;Free of Charge&quot;, &quot;url&quot;: &quot;http://www.naturalearthdata.com/downloads/10m-cultural-vectors/10m-admin-1-states-provinces/&quot;}, {&quot;author&quot;: &quot;Natural Earth&quot;, &quot;dataset&quot;: &quot;Rivers and lake centerlines&quot;, &quot;license&quot;: &quot;Free of charge&quot;, &quot;url&quot;: &quot;http://www.naturalearthdata.com/downloads/10m-physical-vectors/10m-rivers-lake-centerlines/&quot;}, {&quot;author&quot;: &quot;Natural Earth&quot;, &quot;dataset&quot;: &quot;Marine Regions&quot;, &quot;license&quot;: &quot;Free of charge&quot;, &quot;url&quot;: &quot;http://www.naturalearthdata.com/downloads/10m-physical-vectors/10m-physical-labels/&quot;}], &quot;spaceborne:s2TakeId&quot;: &quot;GS2B_20230209T230019_030972_N05.09&quot;, &quot;spaceborne:satellitePlatform&quot;: &quot;S2B&quot;, &quot;spaceborne:satelliteSensor&quot;: &quot;MSI&quot;, &quot;spaceborne:sensorMode&quot;: &quot;INS-NOBS&quot;, &quot;spaceborne:tile&quot;: &quot;T59LND&quot;, &quot;spatial:bbox&quot;: &quot;170.99981355738,-15.465017044255,171.43759973074,-15.371267284933&quot;, &quot;temporal:endDate&quot;: &quot;2023-02-09T23:00:19.024Z&quot;, &quot;temporal:startDate&quot;: &quot;2023-02-09T23:00:19.024Z&quot;, &quot;versionInfo&quot;: &quot;00.00&quot;}, &quot;stac_extensions&quot;: [&quot;temporal&quot;, &quot;spatial&quot;, &quot;references&quot;, &quot;keyword&quot;, &quot;keywords&quot;, &quot;accessService&quot;, &quot;processing&quot;, &quot;spaceborne&quot;, &quot;version&quot;, &quot;political&quot;], &quot;stac_version&quot;: &quot;1.0.0&quot;, &quot;type&quot;: &quot;Feature&quot;}, &quot;spaceborne:absoluteOrbitID&quot;: 30972, &quot;spaceborne:cloudCover&quot;: 39.5990357465109}, &quot;type&quot;: &quot;Feature&quot;}, {&quot;bbox&quot;: [144.49933152198, -66.762344916643, 145.76350791331, -65.872318536137], &quot;geometry&quot;: {&quot;coordinates&quot;: [[[144.49933152198, -66.762344916643], [145.76350791331, -66.73412732971], [145.60365093506, -65.872318536137], [145.59269722565, -65.881563289062], [145.43074187007, -66.016690817772], [145.26715301887, -66.151622272097], [145.10171494574, -66.28630394223], [144.93432737852, -66.420692687645], [144.76516888409, -66.55485643207], [144.59417155194, -66.688814567227], [144.49933152198, -66.762344916643]]], &quot;type&quot;: &quot;Polygon&quot;}, &quot;id&quot;: &quot;461&quot;, &quot;properties&quot;: {&quot;collection&quot;: &quot;PEPS_S2_L1C&quot;, &quot;id&quot;: &quot;URN:FEATURE:DATA:gdh:c10655c6-e1ed-3173-a460-88573c359320:V1&quot;, &quot;item&quot;: {&quot;assets&quot;: {&quot;2023/02/09/S2B/S2B_MSIL1C_20230209T231349_N0509_R058_T54DXM_20230210T001003_quicklook.jpg&quot;: {&quot;description&quot;: &quot;File size: 19257 bytes\\n\\nIs reference: false\\n\\nIs online: true\\n\\nDatatype: QUICKLOOK_SD\\n\\nChecksum MD5: 20b064c8e1cfe6c97ffd27b71cb1da85&quot;, &quot;href&quot;: &quot;https://geodes-portal.cnes.fr/api/v1/rs-catalog/downloads/URN:FEATURE:DATA:gdh:c10655c6-e1ed-3173-a460-88573c359320:V1/files/20b064c8e1cfe6c97ffd27b71cb1da85?scope=gdh&quot;, &quot;roles&quot;: [&quot;overview&quot;], &quot;title&quot;: &quot;2023/02/09/S2B/S2B_MSIL1C_20230209T231349_N0509_R058_T54DXM_20230210T001003_quicklook.jpg&quot;, &quot;type&quot;: &quot;image/jpeg&quot;}, &quot;S2B_MSIL1C_20230209T231349_N0509_R058_T54DXM_20230210T001003.zip&quot;: {&quot;description&quot;: &quot;File size: 178410272 bytes\\n\\nIs reference: false\\n\\nIs online: true\\n\\nDatatype: RAWDATA\\n\\nChecksum MD5: 278d950df775a7104a7411eb56766ef2&quot;, &quot;href&quot;: &quot;https://geodes-portal.cnes.fr/api/v1/rs-catalog/downloads/URN:FEATURE:DATA:gdh:c10655c6-e1ed-3173-a460-88573c359320:V1/files/278d950df775a7104a7411eb56766ef2?scope=gdh&quot;, &quot;roles&quot;: [&quot;data&quot;], &quot;title&quot;: &quot;S2B_MSIL1C_20230209T231349_N0509_R058_T54DXM_20230210T001003.zip&quot;, &quot;type&quot;: &quot;application/zip&quot;}}, &quot;bbox&quot;: [144.49933152198, -66.762344916643, 145.76350791331, -65.872318536137], &quot;centroid&quot;: {&quot;lat&quot;: -66.45799146753274, &quot;lon&quot;: 145.29178416660466}, &quot;collection&quot;: &quot;PEPS_S2_L1C&quot;, &quot;geometry&quot;: {&quot;coordinates&quot;: [[[144.49933152198, -66.762344916643], [145.76350791331, -66.73412732971], [145.60365093506, -65.872318536137], [145.59269722565, -65.881563289062], [145.43074187007, -66.016690817772], [145.26715301887, -66.151622272097], [145.10171494574, -66.28630394223], [144.93432737852, -66.420692687645], [144.76516888409, -66.55485643207], [144.59417155194, -66.688814567227], [144.49933152198, -66.762344916643]]], &quot;type&quot;: &quot;Polygon&quot;}, &quot;id&quot;: &quot;URN:FEATURE:DATA:gdh:c10655c6-e1ed-3173-a460-88573c359320:V1&quot;, &quot;links&quot;: [{&quot;href&quot;: &quot;https://gdh-portal-prod.cnes.fr/api/v1/rs-catalog/stac?scope=gdh&quot;, &quot;rel&quot;: &quot;root&quot;, &quot;title&quot;: &quot;STAC gdh root&quot;, &quot;type&quot;: &quot;application/json&quot;}, {&quot;href&quot;: &quot;https://gdh-portal-prod.cnes.fr/api/v1/rs-catalog/stac/collections/PEPS_S2_L1C?scope=gdh&quot;, &quot;rel&quot;: &quot;collection&quot;, &quot;title&quot;: &quot;Item collection&quot;, &quot;type&quot;: &quot;application/json&quot;}, {&quot;href&quot;: &quot;https://gdh-portal-prod.cnes.fr/api/v1/rs-catalog/stac/collections/PEPS_S2_L1C/items/URN:FEATURE:DATA:gdh:c10655c6-e1ed-3173-a460-88573c359320:V1?scope=gdh&quot;, &quot;rel&quot;: &quot;self&quot;, &quot;title&quot;: &quot;URN:FEATURE:DATA:gdh:c10655c6-e1ed-3173-a460-88573c359320:V1&quot;, &quot;type&quot;: &quot;application/json&quot;}, {&quot;href&quot;: &quot;https://spdx.org/licenses/Apache-2.0.html&quot;, &quot;rel&quot;: &quot;license&quot;, &quot;title&quot;: &quot;Apache License 2.0&quot;, &quot;type&quot;: &quot;application/html&quot;}, {&quot;href&quot;: &quot;https://geodes-portal.cnes.fr/api/v1/rs-catalog/stac?scope/gdh&quot;, &quot;rel&quot;: &quot;root&quot;, &quot;title&quot;: &quot;STAC gdh root&quot;, &quot;type&quot;: &quot;application/json&quot;}], &quot;properties&quot;: {&quot;accessService:endpointDescription&quot;: &quot;Link to product in datalake&quot;, &quot;accessService:endpointURL&quot;: &quot;https://s3.datalake.cnes.fr/sentinel2-l1c/54/D/XM/2023/02/09/S2B_MSIL1C_20230209T231349_N0509_R058_T54DXM_20230210T001003.zip&quot;, &quot;dataType&quot;: &quot;PEPS_S2_L1C&quot;, &quot;datetime&quot;: &quot;2023-02-10T01:34:44.054000Z&quot;, &quot;latest&quot;: true, &quot;processing:processingVersion&quot;: &quot;05.09&quot;, &quot;spaceborne:absoluteOrbitID&quot;: 30972, &quot;spaceborne:cloudCover&quot;: 39.0712309885739, &quot;spaceborne:continentsID&quot;: [], &quot;spaceborne:keywords&quot;: [&quot;location:southern&quot;, &quot;season:summer&quot;], &quot;spaceborne:orbitDirection&quot;: &quot;Descending&quot;, &quot;spaceborne:orbitID&quot;: 58, &quot;spaceborne:political&quot;: {&quot;continents&quot;: []}, &quot;spaceborne:productLevel&quot;: &quot;L1C&quot;, &quot;spaceborne:productTimeliness&quot;: &quot;Nominal&quot;, &quot;spaceborne:productType&quot;: &quot;S2MSI1C&quot;, &quot;spaceborne:references&quot;: [{&quot;author&quot;: &quot;Natural Earth&quot;, &quot;dataset&quot;: &quot;Coastline&quot;, &quot;license&quot;: &quot;Free of Charge&quot;, &quot;url&quot;: &quot;http://www.naturalearthdata.com/downloads/10m-physical-vectors/10m-coastline/&quot;}, {&quot;author&quot;: &quot;Natural Earth&quot;, &quot;dataset&quot;: &quot;Admin level 0 - Countries&quot;, &quot;license&quot;: &quot;Free of Charge&quot;, &quot;url&quot;: &quot;http://www.naturalearthdata.com/downloads/10m-cultural-vectors/10m-admin-0-countries/&quot;}, {&quot;author&quot;: &quot;Natural Earth&quot;, &quot;dataset&quot;: &quot;Admin level 1 - States, Provinces&quot;, &quot;license&quot;: &quot;Free of Charge&quot;, &quot;url&quot;: &quot;http://www.naturalearthdata.com/downloads/10m-cultural-vectors/10m-admin-1-states-provinces/&quot;}, {&quot;author&quot;: &quot;Natural Earth&quot;, &quot;dataset&quot;: &quot;Rivers and lake centerlines&quot;, &quot;license&quot;: &quot;Free of charge&quot;, &quot;url&quot;: &quot;http://www.naturalearthdata.com/downloads/10m-physical-vectors/10m-rivers-lake-centerlines/&quot;}, {&quot;author&quot;: &quot;Natural Earth&quot;, &quot;dataset&quot;: &quot;Marine Regions&quot;, &quot;license&quot;: &quot;Free of charge&quot;, &quot;url&quot;: &quot;http://www.naturalearthdata.com/downloads/10m-physical-vectors/10m-physical-labels/&quot;}], &quot;spaceborne:s2TakeId&quot;: &quot;GS2B_20230209T231349_030972_N05.09&quot;, &quot;spaceborne:satellitePlatform&quot;: &quot;S2B&quot;, &quot;spaceborne:satelliteSensor&quot;: &quot;MSI&quot;, &quot;spaceborne:sensorMode&quot;: &quot;INS-NOBS&quot;, &quot;spaceborne:tile&quot;: &quot;T54DXM&quot;, &quot;spatial:bbox&quot;: &quot;144.49933152198,-66.762344916643,145.60365093506,-65.872318536137&quot;, &quot;temporal:endDate&quot;: &quot;2023-02-09T23:13:49.024Z&quot;, &quot;temporal:startDate&quot;: &quot;2023-02-09T23:13:49.024Z&quot;, &quot;versionInfo&quot;: &quot;00.00&quot;}, &quot;stac_extensions&quot;: [&quot;temporal&quot;, &quot;spatial&quot;, &quot;references&quot;, &quot;keyword&quot;, &quot;keywords&quot;, &quot;accessService&quot;, &quot;processing&quot;, &quot;spaceborne&quot;, &quot;version&quot;, &quot;political&quot;], &quot;stac_version&quot;: &quot;1.0.0&quot;, &quot;type&quot;: &quot;Feature&quot;}, &quot;spaceborne:absoluteOrbitID&quot;: 30972, &quot;spaceborne:cloudCover&quot;: 39.0712309885739}, &quot;type&quot;: &quot;Feature&quot;}, {&quot;bbox&quot;: [156.94683853479, -29.01282391103, 158.08244809322, -28.009839383372], &quot;geometry&quot;: {&quot;coordinates&quot;: [[[158.07382850643, -29.01282391103], [158.08244809322, -28.021830626195], [156.96593381666, -28.009839383372], [156.94683853479, -29.000330374427], [158.07382850643, -29.01282391103]]], &quot;type&quot;: &quot;Polygon&quot;}, &quot;id&quot;: &quot;530&quot;, &quot;properties&quot;: {&quot;collection&quot;: &quot;PEPS_S2_L1C&quot;, &quot;id&quot;: &quot;URN:FEATURE:DATA:gdh:20afef16-f166-3e08-ba5e-c20e6cda60c1:V1&quot;, &quot;item&quot;: {&quot;assets&quot;: {&quot;2021/05/27/S2A/S2A_MSIL1C_20210527T234311_N0500_R087_T57JUJ_20230301T001059_quicklook.jpg&quot;: {&quot;description&quot;: &quot;File size: 68339 bytes\\n\\nIs reference: false\\n\\nIs online: true\\n\\nDatatype: QUICKLOOK_SD\\n\\nChecksum MD5: f93f751318fe4320a3c212cc497822ea&quot;, &quot;href&quot;: &quot;https://geodes-portal.cnes.fr/api/v1/rs-catalog/downloads/URN:FEATURE:DATA:gdh:20afef16-f166-3e08-ba5e-c20e6cda60c1:V1/files/f93f751318fe4320a3c212cc497822ea?scope=gdh&quot;, &quot;roles&quot;: [&quot;overview&quot;], &quot;title&quot;: &quot;2021/05/27/S2A/S2A_MSIL1C_20210527T234311_N0500_R087_T57JUJ_20230301T001059_quicklook.jpg&quot;, &quot;type&quot;: &quot;image/jpeg&quot;}, &quot;S2A_MSIL1C_20210527T234311_N0500_R087_T57JUJ_20230301T001059.zip&quot;: {&quot;description&quot;: &quot;File size: 749619802 bytes\\n\\nIs reference: false\\n\\nIs online: true\\n\\nDatatype: RAWDATA\\n\\nChecksum MD5: d5ab4edc64949465ef096ebb78c6c1f2&quot;, &quot;href&quot;: &quot;https://geodes-portal.cnes.fr/api/v1/rs-catalog/downloads/URN:FEATURE:DATA:gdh:20afef16-f166-3e08-ba5e-c20e6cda60c1:V1/files/d5ab4edc64949465ef096ebb78c6c1f2?scope=gdh&quot;, &quot;roles&quot;: [&quot;data&quot;], &quot;title&quot;: &quot;S2A_MSIL1C_20210527T234311_N0500_R087_T57JUJ_20230301T001059.zip&quot;, &quot;type&quot;: &quot;application/zip&quot;}}, &quot;bbox&quot;: [156.94683853479, -29.01282391103, 158.08244809322, -28.009839383372], &quot;centroid&quot;: {&quot;lat&quot;: -28.511977891981306, &quot;lon&quot;: 157.51728804810082}, &quot;collection&quot;: &quot;PEPS_S2_L1C&quot;, &quot;geometry&quot;: {&quot;coordinates&quot;: [[[158.07382850643, -29.01282391103], [158.08244809322, -28.021830626195], [156.96593381666, -28.009839383372], [156.94683853479, -29.000330374427], [158.07382850643, -29.01282391103]]], &quot;type&quot;: &quot;Polygon&quot;}, &quot;id&quot;: &quot;URN:FEATURE:DATA:gdh:20afef16-f166-3e08-ba5e-c20e6cda60c1:V1&quot;, &quot;links&quot;: [{&quot;href&quot;: &quot;https://gdh-portal-prod.cnes.fr/api/v1/rs-catalog/stac?scope=gdh&quot;, &quot;rel&quot;: &quot;root&quot;, &quot;title&quot;: &quot;STAC gdh root&quot;, &quot;type&quot;: &quot;application/json&quot;}, {&quot;href&quot;: &quot;https://gdh-portal-prod.cnes.fr/api/v1/rs-catalog/stac/collections/PEPS_S2_L1C?scope=gdh&quot;, &quot;rel&quot;: &quot;collection&quot;, &quot;title&quot;: &quot;Item collection&quot;, &quot;type&quot;: &quot;application/json&quot;}, {&quot;href&quot;: &quot;https://gdh-portal-prod.cnes.fr/api/v1/rs-catalog/stac/collections/PEPS_S2_L1C/items/URN:FEATURE:DATA:gdh:20afef16-f166-3e08-ba5e-c20e6cda60c1:V1?scope=gdh&quot;, &quot;rel&quot;: &quot;self&quot;, &quot;title&quot;: &quot;URN:FEATURE:DATA:gdh:20afef16-f166-3e08-ba5e-c20e6cda60c1:V1&quot;, &quot;type&quot;: &quot;application/json&quot;}, {&quot;href&quot;: &quot;https://spdx.org/licenses/Apache-2.0.html&quot;, &quot;rel&quot;: &quot;license&quot;, &quot;title&quot;: &quot;Apache License 2.0&quot;, &quot;type&quot;: &quot;application/html&quot;}, {&quot;href&quot;: &quot;https://geodes-portal.cnes.fr/api/v1/rs-catalog/stac?scope/gdh&quot;, &quot;rel&quot;: &quot;root&quot;, &quot;title&quot;: &quot;STAC gdh root&quot;, &quot;type&quot;: &quot;application/json&quot;}], &quot;properties&quot;: {&quot;accessService:endpointDescription&quot;: &quot;Link to product in datalake&quot;, &quot;accessService:endpointURL&quot;: &quot;https://s3.datalake.cnes.fr/sentinel2-l1c/57/J/UJ/2021/05/27/S2A_MSIL1C_20210527T234311_N0500_R087_T57JUJ_20230301T001059.zip&quot;, &quot;dataType&quot;: &quot;PEPS_S2_L1C&quot;, &quot;datetime&quot;: &quot;2023-06-23T04:30:39.017000Z&quot;, &quot;latest&quot;: true, &quot;processing:processingVersion&quot;: &quot;05.00&quot;, &quot;spaceborne:absoluteOrbitID&quot;: 30972, &quot;spaceborne:cloudCover&quot;: 39.5391621129326, &quot;spaceborne:continentsID&quot;: [], &quot;spaceborne:keywords&quot;: [&quot;location:southern&quot;, &quot;season:autumn&quot;], &quot;spaceborne:orbitDirection&quot;: &quot;Descending&quot;, &quot;spaceborne:orbitID&quot;: 87, &quot;spaceborne:political&quot;: {&quot;continents&quot;: []}, &quot;spaceborne:productLevel&quot;: &quot;L1C&quot;, &quot;spaceborne:productTimeliness&quot;: &quot;Nominal&quot;, &quot;spaceborne:productType&quot;: &quot;S2MSI1C&quot;, &quot;spaceborne:references&quot;: [{&quot;author&quot;: &quot;Natural Earth&quot;, &quot;dataset&quot;: &quot;Coastline&quot;, &quot;license&quot;: &quot;Free of Charge&quot;, &quot;url&quot;: &quot;http://www.naturalearthdata.com/downloads/10m-physical-vectors/10m-coastline/&quot;}, {&quot;author&quot;: &quot;Natural Earth&quot;, &quot;dataset&quot;: &quot;Admin level 0 - Countries&quot;, &quot;license&quot;: &quot;Free of Charge&quot;, &quot;url&quot;: &quot;http://www.naturalearthdata.com/downloads/10m-cultural-vectors/10m-admin-0-countries/&quot;}, {&quot;author&quot;: &quot;Natural Earth&quot;, &quot;dataset&quot;: &quot;Admin level 1 - States, Provinces&quot;, &quot;license&quot;: &quot;Free of Charge&quot;, &quot;url&quot;: &quot;http://www.naturalearthdata.com/downloads/10m-cultural-vectors/10m-admin-1-states-provinces/&quot;}, {&quot;author&quot;: &quot;Natural Earth&quot;, &quot;dataset&quot;: &quot;Rivers and lake centerlines&quot;, &quot;license&quot;: &quot;Free of charge&quot;, &quot;url&quot;: &quot;http://www.naturalearthdata.com/downloads/10m-physical-vectors/10m-rivers-lake-centerlines/&quot;}, {&quot;author&quot;: &quot;Natural Earth&quot;, &quot;dataset&quot;: &quot;Marine Regions&quot;, &quot;license&quot;: &quot;Free of charge&quot;, &quot;url&quot;: &quot;http://www.naturalearthdata.com/downloads/10m-physical-vectors/10m-physical-labels/&quot;}], &quot;spaceborne:s2TakeId&quot;: &quot;GS2A_20210527T234311_030972_N05.00&quot;, &quot;spaceborne:satellitePlatform&quot;: &quot;S2A&quot;, &quot;spaceborne:satelliteSensor&quot;: &quot;MSI&quot;, &quot;spaceborne:sensorMode&quot;: &quot;INS-NOBS&quot;, &quot;spaceborne:tile&quot;: &quot;T57JUJ&quot;, &quot;spatial:bbox&quot;: &quot;158.07382850643,-29.01282391103,156.96593381666,-28.009839383372&quot;, &quot;temporal:endDate&quot;: &quot;2021-05-27T23:43:11.024Z&quot;, &quot;temporal:startDate&quot;: &quot;2021-05-27T23:43:11.024Z&quot;, &quot;versionInfo&quot;: &quot;00.00&quot;}, &quot;stac_extensions&quot;: [&quot;temporal&quot;, &quot;spatial&quot;, &quot;references&quot;, &quot;keyword&quot;, &quot;keywords&quot;, &quot;accessService&quot;, &quot;processing&quot;, &quot;spaceborne&quot;, &quot;version&quot;, &quot;political&quot;], &quot;stac_version&quot;: &quot;1.0.0&quot;, &quot;type&quot;: &quot;Feature&quot;}, &quot;spaceborne:absoluteOrbitID&quot;: 30972, &quot;spaceborne:cloudCover&quot;: 39.5391621129326}, &quot;type&quot;: &quot;Feature&quot;}, {&quot;bbox&quot;: [161.74354600737, -11.835114647673, 162.37173647425, -10.836634010519], &quot;geometry&quot;: {&quot;coordinates&quot;: [[[161.75303276174, -11.835114647673], [162.1518255473, -11.830532744882], [162.17862445869, -11.709250462127], [162.21142756291, -11.560773429745], [162.24423879582, -11.412349371564], [162.27708743645, -11.264005891546], [162.30992714571, -11.11571926635], [162.34278112373, -10.967410431514], [162.37173647425, -10.836634010519], [161.74354600737, -10.843254630836], [161.75303276174, -11.835114647673]]], &quot;type&quot;: &quot;Polygon&quot;}, &quot;id&quot;: &quot;721&quot;, &quot;properties&quot;: {&quot;collection&quot;: &quot;PEPS_S2_L1C&quot;, &quot;id&quot;: &quot;URN:FEATURE:DATA:gdh:9635442b-1548-39e7-9095-1d2f3bc89df4:V1&quot;, &quot;item&quot;: {&quot;assets&quot;: {&quot;2021/05/27/S2A/S2A_MSIL1C_20210527T233821_N0500_R087_T57LZH_20230316T103827_quicklook.jpg&quot;: {&quot;description&quot;: &quot;File size: 31935 bytes\\n\\nIs reference: false\\n\\nIs online: true\\n\\nDatatype: QUICKLOOK_SD\\n\\nChecksum MD5: d5167ee2ccc623f1ee4aa932ed6ce2b2&quot;, &quot;href&quot;: &quot;https://geodes-portal.cnes.fr/api/v1/rs-catalog/downloads/URN:FEATURE:DATA:gdh:9635442b-1548-39e7-9095-1d2f3bc89df4:V1/files/d5167ee2ccc623f1ee4aa932ed6ce2b2?scope=gdh&quot;, &quot;roles&quot;: [&quot;overview&quot;], &quot;title&quot;: &quot;2021/05/27/S2A/S2A_MSIL1C_20210527T233821_N0500_R087_T57LZH_20230316T103827_quicklook.jpg&quot;, &quot;type&quot;: &quot;image/jpeg&quot;}, &quot;S2A_MSIL1C_20210527T233821_N0500_R087_T57LZH_20230316T103827.zip&quot;: {&quot;description&quot;: &quot;File size: 371355583 bytes\\n\\nIs reference: false\\n\\nIs online: true\\n\\nDatatype: RAWDATA\\n\\nChecksum MD5: 8212e0ad5178c40891e930c9eb352006&quot;, &quot;href&quot;: &quot;https://geodes-portal.cnes.fr/api/v1/rs-catalog/downloads/URN:FEATURE:DATA:gdh:9635442b-1548-39e7-9095-1d2f3bc89df4:V1/files/8212e0ad5178c40891e930c9eb352006?scope=gdh&quot;, &quot;roles&quot;: [&quot;data&quot;], &quot;title&quot;: &quot;S2A_MSIL1C_20210527T233821_N0500_R087_T57LZH_20230316T103827.zip&quot;, &quot;type&quot;: &quot;application/zip&quot;}}, &quot;bbox&quot;: [161.74354600737, -11.835114647673, 162.37173647425, -10.836634010519], &quot;centroid&quot;: {&quot;lat&quot;: -11.29940470356909, &quot;lon&quot;: 162.00890455910658}, &quot;collection&quot;: &quot;PEPS_S2_L1C&quot;, &quot;geometry&quot;: {&quot;coordinates&quot;: [[[161.75303276174, -11.835114647673], [162.1518255473, -11.830532744882], [162.17862445869, -11.709250462127], [162.21142756291, -11.560773429745], [162.24423879582, -11.412349371564], [162.27708743645, -11.264005891546], [162.30992714571, -11.11571926635], [162.34278112373, -10.967410431514], [162.37173647425, -10.836634010519], [161.74354600737, -10.843254630836], [161.75303276174, -11.835114647673]]], &quot;type&quot;: &quot;Polygon&quot;}, &quot;id&quot;: &quot;URN:FEATURE:DATA:gdh:9635442b-1548-39e7-9095-1d2f3bc89df4:V1&quot;, &quot;links&quot;: [{&quot;href&quot;: &quot;https://gdh-portal-prod.cnes.fr/api/v1/rs-catalog/stac?scope=gdh&quot;, &quot;rel&quot;: &quot;root&quot;, &quot;title&quot;: &quot;STAC gdh root&quot;, &quot;type&quot;: &quot;application/json&quot;}, {&quot;href&quot;: &quot;https://gdh-portal-prod.cnes.fr/api/v1/rs-catalog/stac/collections/PEPS_S2_L1C?scope=gdh&quot;, &quot;rel&quot;: &quot;collection&quot;, &quot;title&quot;: &quot;Item collection&quot;, &quot;type&quot;: &quot;application/json&quot;}, {&quot;href&quot;: &quot;https://gdh-portal-prod.cnes.fr/api/v1/rs-catalog/stac/collections/PEPS_S2_L1C/items/URN:FEATURE:DATA:gdh:9635442b-1548-39e7-9095-1d2f3bc89df4:V1?scope=gdh&quot;, &quot;rel&quot;: &quot;self&quot;, &quot;title&quot;: &quot;URN:FEATURE:DATA:gdh:9635442b-1548-39e7-9095-1d2f3bc89df4:V1&quot;, &quot;type&quot;: &quot;application/json&quot;}, {&quot;href&quot;: &quot;https://spdx.org/licenses/Apache-2.0.html&quot;, &quot;rel&quot;: &quot;license&quot;, &quot;title&quot;: &quot;Apache License 2.0&quot;, &quot;type&quot;: &quot;application/html&quot;}, {&quot;href&quot;: &quot;https://geodes-portal.cnes.fr/api/v1/rs-catalog/stac?scope/gdh&quot;, &quot;rel&quot;: &quot;root&quot;, &quot;title&quot;: &quot;STAC gdh root&quot;, &quot;type&quot;: &quot;application/json&quot;}], &quot;properties&quot;: {&quot;accessService:endpointDescription&quot;: &quot;Link to product in datalake&quot;, &quot;accessService:endpointURL&quot;: &quot;https://s3.datalake.cnes.fr/sentinel2-l1c/57/L/ZH/2021/05/27/S2A_MSIL1C_20210527T233821_N0500_R087_T57LZH_20230316T103827.zip&quot;, &quot;dataType&quot;: &quot;PEPS_S2_L1C&quot;, &quot;datetime&quot;: &quot;2023-08-07T13:55:49.119000Z&quot;, &quot;latest&quot;: true, &quot;processing:processingVersion&quot;: &quot;05.00&quot;, &quot;spaceborne:absoluteOrbitID&quot;: 30972, &quot;spaceborne:cloudCover&quot;: 39.9215011716941, &quot;spaceborne:continentsID&quot;: [], &quot;spaceborne:keywords&quot;: [&quot;location:tropical&quot;, &quot;location:southern&quot;, &quot;season:autumn&quot;], &quot;spaceborne:orbitDirection&quot;: &quot;Descending&quot;, &quot;spaceborne:orbitID&quot;: 87, &quot;spaceborne:political&quot;: {&quot;continents&quot;: []}, &quot;spaceborne:productLevel&quot;: &quot;L1C&quot;, &quot;spaceborne:productTimeliness&quot;: &quot;Nominal&quot;, &quot;spaceborne:productType&quot;: &quot;S2MSI1C&quot;, &quot;spaceborne:references&quot;: [{&quot;author&quot;: &quot;Natural Earth&quot;, &quot;dataset&quot;: &quot;Coastline&quot;, &quot;license&quot;: &quot;Free of Charge&quot;, &quot;url&quot;: &quot;http://www.naturalearthdata.com/downloads/10m-physical-vectors/10m-coastline/&quot;}, {&quot;author&quot;: &quot;Natural Earth&quot;, &quot;dataset&quot;: &quot;Admin level 0 - Countries&quot;, &quot;license&quot;: &quot;Free of Charge&quot;, &quot;url&quot;: &quot;http://www.naturalearthdata.com/downloads/10m-cultural-vectors/10m-admin-0-countries/&quot;}, {&quot;author&quot;: &quot;Natural Earth&quot;, &quot;dataset&quot;: &quot;Admin level 1 - States, Provinces&quot;, &quot;license&quot;: &quot;Free of Charge&quot;, &quot;url&quot;: &quot;http://www.naturalearthdata.com/downloads/10m-cultural-vectors/10m-admin-1-states-provinces/&quot;}, {&quot;author&quot;: &quot;Natural Earth&quot;, &quot;dataset&quot;: &quot;Rivers and lake centerlines&quot;, &quot;license&quot;: &quot;Free of charge&quot;, &quot;url&quot;: &quot;http://www.naturalearthdata.com/downloads/10m-physical-vectors/10m-rivers-lake-centerlines/&quot;}, {&quot;author&quot;: &quot;Natural Earth&quot;, &quot;dataset&quot;: &quot;Marine Regions&quot;, &quot;license&quot;: &quot;Free of charge&quot;, &quot;url&quot;: &quot;http://www.naturalearthdata.com/downloads/10m-physical-vectors/10m-physical-labels/&quot;}], &quot;spaceborne:s2TakeId&quot;: &quot;GS2A_20210527T233821_030972_N05.00&quot;, &quot;spaceborne:satellitePlatform&quot;: &quot;S2A&quot;, &quot;spaceborne:satelliteSensor&quot;: &quot;MSI&quot;, &quot;spaceborne:sensorMode&quot;: &quot;INS-NOBS&quot;, &quot;spaceborne:tile&quot;: &quot;T57LZH&quot;, &quot;spatial:bbox&quot;: &quot;161.75303276174,-11.835114647673,162.17862445869,-11.709250462127&quot;, &quot;temporal:endDate&quot;: &quot;2021-05-27T23:38:21.024Z&quot;, &quot;temporal:startDate&quot;: &quot;2021-05-27T23:38:21.024Z&quot;, &quot;versionInfo&quot;: &quot;00.00&quot;}, &quot;stac_extensions&quot;: [&quot;temporal&quot;, &quot;spatial&quot;, &quot;references&quot;, &quot;keyword&quot;, &quot;keywords&quot;, &quot;accessService&quot;, &quot;processing&quot;, &quot;spaceborne&quot;, &quot;version&quot;, &quot;political&quot;], &quot;stac_version&quot;: &quot;1.0.0&quot;, &quot;type&quot;: &quot;Feature&quot;}, &quot;spaceborne:absoluteOrbitID&quot;: 30972, &quot;spaceborne:cloudCover&quot;: 39.9215011716941}, &quot;type&quot;: &quot;Feature&quot;}], &quot;type&quot;: &quot;FeatureCollection&quot;});\n",
       "\n",
       "        \n",
       "    \n",
       "    geo_json_cb5a6c5ae7a5ec8b0a11aa9ee7228a74.bindTooltip(\n",
       "    function(layer){\n",
       "    let div = L.DomUtil.create(&#x27;div&#x27;);\n",
       "    \n",
       "    let handleObject = feature=&gt;typeof(feature)==&#x27;object&#x27; ? JSON.stringify(feature) : feature;\n",
       "    let fields = [&quot;id&quot;, &quot;spaceborne:absoluteOrbitID&quot;, &quot;collection&quot;, &quot;item&quot;, &quot;spaceborne:cloudCover&quot;];\n",
       "    let aliases = [&quot;id&quot;, &quot;spaceborne:absoluteOrbitID&quot;, &quot;collection&quot;, &quot;item&quot;, &quot;spaceborne:cloudCover&quot;];\n",
       "    let table = &#x27;&lt;table&gt;&#x27; +\n",
       "        String(\n",
       "        fields.map(\n",
       "        (v,i)=&gt;\n",
       "        `&lt;tr&gt;\n",
       "            &lt;th&gt;${aliases[i]}&lt;/th&gt;\n",
       "            \n",
       "            &lt;td&gt;${handleObject(layer.feature.properties[v])}&lt;/td&gt;\n",
       "        &lt;/tr&gt;`).join(&#x27;&#x27;))\n",
       "    +&#x27;&lt;/table&gt;&#x27;;\n",
       "    div.innerHTML=table;\n",
       "    \n",
       "    return div\n",
       "    }\n",
       "    ,{&quot;className&quot;: &quot;foliumtooltip&quot;, &quot;sticky&quot;: true});\n",
       "                     \n",
       "    \n",
       "            geo_json_cb5a6c5ae7a5ec8b0a11aa9ee7228a74.addTo(map_56425e1d9eae301563ca7d3b1d953763);\n",
       "        \n",
       "&lt;/script&gt;\n",
       "&lt;/html&gt;\" style=\"position:absolute;width:100%;height:100%;left:0;top:0;border:none !important;\" allowfullscreen webkitallowfullscreen mozallowfullscreen></iframe></div></div>"
      ],
      "text/plain": [
       "<folium.folium.Map at 0x14cb3fc14be0>"
      ]
     },
     "execution_count": 22,
     "metadata": {},
     "output_type": "execute_result"
    }
   ],
   "source": [
    "m"
   ]
  },
  {
   "cell_type": "markdown",
   "id": "82b5788a-e8f8-49cb-a12e-03779a80d056",
   "metadata": {},
   "source": [
    "If you want to have all available columns in your dataframe, just do :"
   ]
  },
  {
   "cell_type": "code",
   "execution_count": 23,
   "id": "9a73cc16-58e7-4353-a346-26016254ff3c",
   "metadata": {
    "tags": []
   },
   "outputs": [],
   "source": [
    "full_dataframe = format_items(\n",
    "    items, columns_to_add=items[0].list_available_keys()\n",
    ")"
   ]
  },
  {
   "cell_type": "code",
   "execution_count": 24,
   "id": "21cfe2f5-3742-44a7-a94f-2ac3ca77bb25",
   "metadata": {
    "tags": []
   },
   "outputs": [
    {
     "data": {
      "text/html": [
       "<div>\n",
       "<style scoped>\n",
       "    .dataframe tbody tr th:only-of-type {\n",
       "        vertical-align: middle;\n",
       "    }\n",
       "\n",
       "    .dataframe tbody tr th {\n",
       "        vertical-align: top;\n",
       "    }\n",
       "\n",
       "    .dataframe thead th {\n",
       "        text-align: right;\n",
       "    }\n",
       "</style>\n",
       "<table border=\"1\" class=\"dataframe\">\n",
       "  <thead>\n",
       "    <tr style=\"text-align: right;\">\n",
       "      <th></th>\n",
       "      <th>datetime</th>\n",
       "      <th>spaceborne:absoluteOrbitID</th>\n",
       "      <th>spaceborne:keywords</th>\n",
       "      <th>collection</th>\n",
       "      <th>spaceborne:productType</th>\n",
       "      <th>dataType</th>\n",
       "      <th>spaceborne:orbitDirection</th>\n",
       "      <th>spaceborne:continentsID</th>\n",
       "      <th>spaceborne:productLevel</th>\n",
       "      <th>spaceborne:references</th>\n",
       "      <th>...</th>\n",
       "      <th>processing:processingVersion</th>\n",
       "      <th>spaceborne:s2TakeId</th>\n",
       "      <th>accessService:endpointURL</th>\n",
       "      <th>spaceborne:political.continents</th>\n",
       "      <th>spatial:bbox</th>\n",
       "      <th>versionInfo</th>\n",
       "      <th>id</th>\n",
       "      <th>temporal:endDate</th>\n",
       "      <th>item</th>\n",
       "      <th>geometry</th>\n",
       "    </tr>\n",
       "  </thead>\n",
       "  <tbody>\n",
       "    <tr>\n",
       "      <th>0</th>\n",
       "      <td>2023-08-07T13:55:38.823000Z</td>\n",
       "      <td>30972</td>\n",
       "      <td>[location:tropical, location:southern, season:...</td>\n",
       "      <td>PEPS_S2_L1C</td>\n",
       "      <td>S2MSI1C</td>\n",
       "      <td>PEPS_S2_L1C</td>\n",
       "      <td>Descending</td>\n",
       "      <td>[]</td>\n",
       "      <td>L1C</td>\n",
       "      <td>[{'url': 'http://www.naturalearthdata.com/down...</td>\n",
       "      <td>...</td>\n",
       "      <td>05.00</td>\n",
       "      <td>GS2A_20210527T233821_030972_N05.00</td>\n",
       "      <td>https://s3.datalake.cnes.fr/sentinel2-l1c/57/L...</td>\n",
       "      <td>[]</td>\n",
       "      <td>161.77151396695,-13.543297699414,161.816238781...</td>\n",
       "      <td>00.00</td>\n",
       "      <td>URN:FEATURE:DATA:gdh:c72b550c-52f5-3fa0-8bc0-6...</td>\n",
       "      <td>2021-05-27T23:38:21.024Z</td>\n",
       "      <td>Item (URN:FEATURE:DATA:gdh:c72b550c-52f5-3fa0-...</td>\n",
       "      <td>POLYGON ((161.77151 -13.54330, 161.78322 -13.4...</td>\n",
       "    </tr>\n",
       "    <tr>\n",
       "      <th>1</th>\n",
       "      <td>2023-08-07T13:55:54.466000Z</td>\n",
       "      <td>30972</td>\n",
       "      <td>[location:tropical, location:southern, season:...</td>\n",
       "      <td>PEPS_S2_L1C</td>\n",
       "      <td>S2MSI1C</td>\n",
       "      <td>PEPS_S2_L1C</td>\n",
       "      <td>Descending</td>\n",
       "      <td>[]</td>\n",
       "      <td>L1C</td>\n",
       "      <td>[{'url': 'http://www.naturalearthdata.com/down...</td>\n",
       "      <td>...</td>\n",
       "      <td>05.00</td>\n",
       "      <td>GS2A_20210527T233821_030972_N05.00</td>\n",
       "      <td>https://s3.datalake.cnes.fr/sentinel2-l1c/57/L...</td>\n",
       "      <td>[]</td>\n",
       "      <td>159.93634686752,-16.367164183361,160.954547796...</td>\n",
       "      <td>00.00</td>\n",
       "      <td>URN:FEATURE:DATA:gdh:2327b73a-4cda-3340-8ff6-9...</td>\n",
       "      <td>2021-05-27T23:38:21.024Z</td>\n",
       "      <td>Item (URN:FEATURE:DATA:gdh:2327b73a-4cda-3340-...</td>\n",
       "      <td>POLYGON ((159.93635 -16.36716, 160.96413 -16.3...</td>\n",
       "    </tr>\n",
       "    <tr>\n",
       "      <th>2</th>\n",
       "      <td>2023-08-07T13:56:04.377000Z</td>\n",
       "      <td>30972</td>\n",
       "      <td>[location:tropical, location:southern, season:...</td>\n",
       "      <td>PEPS_S2_L1C</td>\n",
       "      <td>S2MSI1C</td>\n",
       "      <td>PEPS_S2_L1C</td>\n",
       "      <td>Descending</td>\n",
       "      <td>[]</td>\n",
       "      <td>L1C</td>\n",
       "      <td>[{'url': 'http://www.naturalearthdata.com/down...</td>\n",
       "      <td>...</td>\n",
       "      <td>05.00</td>\n",
       "      <td>GS2A_20210527T233821_030972_N05.00</td>\n",
       "      <td>https://s3.datalake.cnes.fr/sentinel2-l1c/57/K...</td>\n",
       "      <td>[]</td>\n",
       "      <td>159.95583373941,-19.982230511911,160.342529421...</td>\n",
       "      <td>00.00</td>\n",
       "      <td>URN:FEATURE:DATA:gdh:187a9026-dbc4-30fe-8a90-f...</td>\n",
       "      <td>2021-05-27T23:38:21.024Z</td>\n",
       "      <td>Item (URN:FEATURE:DATA:gdh:187a9026-dbc4-30fe-...</td>\n",
       "      <td>POLYGON ((159.95583 -19.98223, 160.31685 -19.9...</td>\n",
       "    </tr>\n",
       "    <tr>\n",
       "      <th>3</th>\n",
       "      <td>2023-08-07T13:56:24.952000Z</td>\n",
       "      <td>30972</td>\n",
       "      <td>[location:tropical, location:southern, season:...</td>\n",
       "      <td>PEPS_S2_L1C</td>\n",
       "      <td>S2MSI1C</td>\n",
       "      <td>PEPS_S2_L1C</td>\n",
       "      <td>Descending</td>\n",
       "      <td>[]</td>\n",
       "      <td>L1C</td>\n",
       "      <td>[{'url': 'http://www.naturalearthdata.com/down...</td>\n",
       "      <td>...</td>\n",
       "      <td>05.00</td>\n",
       "      <td>GS2A_20210527T233821_030972_N05.00</td>\n",
       "      <td>https://s3.datalake.cnes.fr/sentinel2-l1c/57/K...</td>\n",
       "      <td>[]</td>\n",
       "      <td>159.96143100666,-20.885366094496,160.136652542...</td>\n",
       "      <td>00.00</td>\n",
       "      <td>URN:FEATURE:DATA:gdh:ac4337b5-dca0-39a1-9a1f-b...</td>\n",
       "      <td>2021-05-27T23:38:21.024Z</td>\n",
       "      <td>Item (URN:FEATURE:DATA:gdh:ac4337b5-dca0-39a1-...</td>\n",
       "      <td>POLYGON ((159.96143 -20.88537, 160.10729 -20.8...</td>\n",
       "    </tr>\n",
       "    <tr>\n",
       "      <th>4</th>\n",
       "      <td>2023-08-07T13:56:18.875000Z</td>\n",
       "      <td>30972</td>\n",
       "      <td>[location:tropical, location:southern, season:...</td>\n",
       "      <td>PEPS_S2_L1C</td>\n",
       "      <td>S2MSI1C</td>\n",
       "      <td>PEPS_S2_L1C</td>\n",
       "      <td>Descending</td>\n",
       "      <td>[]</td>\n",
       "      <td>L1C</td>\n",
       "      <td>[{'url': 'http://www.naturalearthdata.com/down...</td>\n",
       "      <td>...</td>\n",
       "      <td>05.00</td>\n",
       "      <td>GS2A_20210527T233821_030972_N05.00</td>\n",
       "      <td>https://s3.datalake.cnes.fr/sentinel2-l1c/57/L...</td>\n",
       "      <td>[]</td>\n",
       "      <td>161.73640664108,-10.028033044382,162.571503370...</td>\n",
       "      <td>00.00</td>\n",
       "      <td>URN:FEATURE:DATA:gdh:a96dc6c4-8550-339a-8d95-a...</td>\n",
       "      <td>2021-05-27T23:38:21.024Z</td>\n",
       "      <td>Item (URN:FEATURE:DATA:gdh:a96dc6c4-8550-339a-...</td>\n",
       "      <td>POLYGON ((161.73641 -10.02803, 162.55115 -10.0...</td>\n",
       "    </tr>\n",
       "    <tr>\n",
       "      <th>...</th>\n",
       "      <td>...</td>\n",
       "      <td>...</td>\n",
       "      <td>...</td>\n",
       "      <td>...</td>\n",
       "      <td>...</td>\n",
       "      <td>...</td>\n",
       "      <td>...</td>\n",
       "      <td>...</td>\n",
       "      <td>...</td>\n",
       "      <td>...</td>\n",
       "      <td>...</td>\n",
       "      <td>...</td>\n",
       "      <td>...</td>\n",
       "      <td>...</td>\n",
       "      <td>...</td>\n",
       "      <td>...</td>\n",
       "      <td>...</td>\n",
       "      <td>...</td>\n",
       "      <td>...</td>\n",
       "      <td>...</td>\n",
       "      <td>...</td>\n",
       "    </tr>\n",
       "    <tr>\n",
       "      <th>847</th>\n",
       "      <td>2023-02-10T01:39:01.038000Z</td>\n",
       "      <td>30972</td>\n",
       "      <td>[location:southern, season:summer]</td>\n",
       "      <td>PEPS_S2_L1C</td>\n",
       "      <td>S2MSI1C</td>\n",
       "      <td>PEPS_S2_L1C</td>\n",
       "      <td>Descending</td>\n",
       "      <td>[AN]</td>\n",
       "      <td>L1C</td>\n",
       "      <td>[{'url': 'http://www.naturalearthdata.com/down...</td>\n",
       "      <td>...</td>\n",
       "      <td>05.09</td>\n",
       "      <td>GS2B_20230209T231349_030972_N05.09</td>\n",
       "      <td>https://s3.datalake.cnes.fr/sentinel2-l1c/52/C...</td>\n",
       "      <td>[{'id': 'continent:Antarctica:6255152', 'name'...</td>\n",
       "      <td>128.99916801842,-77.564425417387,133.544499891...</td>\n",
       "      <td>00.00</td>\n",
       "      <td>URN:FEATURE:DATA:gdh:6089196a-2b30-396d-b9e3-1...</td>\n",
       "      <td>2023-02-09T23:13:49.024Z</td>\n",
       "      <td>Item (URN:FEATURE:DATA:gdh:6089196a-2b30-396d-...</td>\n",
       "      <td>POLYGON ((128.99917 -77.56443, 133.41004 -77.5...</td>\n",
       "    </tr>\n",
       "    <tr>\n",
       "      <th>848</th>\n",
       "      <td>2023-02-10T01:08:09.184000Z</td>\n",
       "      <td>30972</td>\n",
       "      <td>[location:northern, location:coastal, season:w...</td>\n",
       "      <td>PEPS_S2_L1C</td>\n",
       "      <td>S2MSI1C</td>\n",
       "      <td>PEPS_S2_L1C</td>\n",
       "      <td>Descending</td>\n",
       "      <td>[NA]</td>\n",
       "      <td>L1C</td>\n",
       "      <td>[{'url': 'http://www.naturalearthdata.com/down...</td>\n",
       "      <td>...</td>\n",
       "      <td>05.09</td>\n",
       "      <td>GS2B_20230209T223659_030972_N05.09</td>\n",
       "      <td>https://s3.datalake.cnes.fr/sentinel2-l1c/02/U...</td>\n",
       "      <td>[{'id': 'continent:NorthAmerica:6255149', 'nam...</td>\n",
       "      <td>-172.46556,52.253449535173,-170.85373,53.24953...</td>\n",
       "      <td>00.00</td>\n",
       "      <td>URN:FEATURE:DATA:gdh:f2647d63-395a-3f41-8436-b...</td>\n",
       "      <td>2023-02-09T22:36:59.024Z</td>\n",
       "      <td>Item (URN:FEATURE:DATA:gdh:f2647d63-395a-3f41-...</td>\n",
       "      <td>POLYGON ((-172.46556 52.25345, -170.85700 52.2...</td>\n",
       "    </tr>\n",
       "    <tr>\n",
       "      <th>849</th>\n",
       "      <td>2023-02-10T01:02:44.032000Z</td>\n",
       "      <td>30972</td>\n",
       "      <td>[location:tropical, location:northern, season:...</td>\n",
       "      <td>PEPS_S2_L1C</td>\n",
       "      <td>S2MSI1C</td>\n",
       "      <td>PEPS_S2_L1C</td>\n",
       "      <td>Descending</td>\n",
       "      <td>[]</td>\n",
       "      <td>L1C</td>\n",
       "      <td>[{'url': 'http://www.naturalearthdata.com/down...</td>\n",
       "      <td>...</td>\n",
       "      <td>05.09</td>\n",
       "      <td>GS2B_20230209T225459_030972_N05.09</td>\n",
       "      <td>https://s3.datalake.cnes.fr/sentinel2-l1c/60/N...</td>\n",
       "      <td>[]</td>\n",
       "      <td>175.19955511589,3.5288285993601,175.6288934134...</td>\n",
       "      <td>00.00</td>\n",
       "      <td>URN:FEATURE:DATA:gdh:b0eb078f-3b5b-3200-8aa5-c...</td>\n",
       "      <td>2023-02-09T22:54:59.024Z</td>\n",
       "      <td>Item (URN:FEATURE:DATA:gdh:b0eb078f-3b5b-3200-...</td>\n",
       "      <td>POLYGON ((175.19956 3.52883, 175.59973 3.52939...</td>\n",
       "    </tr>\n",
       "    <tr>\n",
       "      <th>850</th>\n",
       "      <td>2023-02-10T00:48:46.871000Z</td>\n",
       "      <td>30972</td>\n",
       "      <td>[location:southern, location:coastal, season:s...</td>\n",
       "      <td>PEPS_S2_L1C</td>\n",
       "      <td>S2MSI1C</td>\n",
       "      <td>PEPS_S2_L1C</td>\n",
       "      <td>Descending</td>\n",
       "      <td>[OC]</td>\n",
       "      <td>L1C</td>\n",
       "      <td>[{'url': 'http://www.naturalearthdata.com/down...</td>\n",
       "      <td>...</td>\n",
       "      <td>05.09</td>\n",
       "      <td>GS2B_20230209T230409_030972_N05.09</td>\n",
       "      <td>https://s3.datalake.cnes.fr/sentinel2-l1c/58/J...</td>\n",
       "      <td>[{'id': 'continent:Oceania:6255151', 'name': '...</td>\n",
       "      <td>167.05275105063,-29.000336644821,168.175139345...</td>\n",
       "      <td>00.00</td>\n",
       "      <td>URN:FEATURE:DATA:gdh:7c4bc98f-9088-30eb-bfd4-b...</td>\n",
       "      <td>2023-02-09T23:04:09.024Z</td>\n",
       "      <td>Item (URN:FEATURE:DATA:gdh:7c4bc98f-9088-30eb-...</td>\n",
       "      <td>POLYGON ((167.05275 -29.00034, 168.17876 -28.9...</td>\n",
       "    </tr>\n",
       "    <tr>\n",
       "      <th>851</th>\n",
       "      <td>2023-02-10T01:28:54.259000Z</td>\n",
       "      <td>30972</td>\n",
       "      <td>[location:southern, season:summer]</td>\n",
       "      <td>PEPS_S2_L1C</td>\n",
       "      <td>S2MSI1C</td>\n",
       "      <td>PEPS_S2_L1C</td>\n",
       "      <td>Descending</td>\n",
       "      <td>[AN]</td>\n",
       "      <td>L1C</td>\n",
       "      <td>[{'url': 'http://www.naturalearthdata.com/down...</td>\n",
       "      <td>...</td>\n",
       "      <td>05.09</td>\n",
       "      <td>GS2B_20230209T231349_030972_N05.09</td>\n",
       "      <td>https://s3.datalake.cnes.fr/sentinel2-l1c/49/C...</td>\n",
       "      <td>[{'id': 'continent:Antarctica:6255152', 'name'...</td>\n",
       "      <td>111.56813158306,-81.148069515409,105.768297510...</td>\n",
       "      <td>00.00</td>\n",
       "      <td>URN:FEATURE:DATA:gdh:769975fa-4a98-3fd1-a774-1...</td>\n",
       "      <td>2023-02-09T23:13:49.024Z</td>\n",
       "      <td>Item (URN:FEATURE:DATA:gdh:769975fa-4a98-3fd1-...</td>\n",
       "      <td>POLYGON ((111.56813 -81.14807, 111.51180 -80.1...</td>\n",
       "    </tr>\n",
       "  </tbody>\n",
       "</table>\n",
       "<p>852 rows × 30 columns</p>\n",
       "</div>"
      ],
      "text/plain": [
       "                        datetime  spaceborne:absoluteOrbitID  \\\n",
       "0    2023-08-07T13:55:38.823000Z                       30972   \n",
       "1    2023-08-07T13:55:54.466000Z                       30972   \n",
       "2    2023-08-07T13:56:04.377000Z                       30972   \n",
       "3    2023-08-07T13:56:24.952000Z                       30972   \n",
       "4    2023-08-07T13:56:18.875000Z                       30972   \n",
       "..                           ...                         ...   \n",
       "847  2023-02-10T01:39:01.038000Z                       30972   \n",
       "848  2023-02-10T01:08:09.184000Z                       30972   \n",
       "849  2023-02-10T01:02:44.032000Z                       30972   \n",
       "850  2023-02-10T00:48:46.871000Z                       30972   \n",
       "851  2023-02-10T01:28:54.259000Z                       30972   \n",
       "\n",
       "                                   spaceborne:keywords   collection  \\\n",
       "0    [location:tropical, location:southern, season:...  PEPS_S2_L1C   \n",
       "1    [location:tropical, location:southern, season:...  PEPS_S2_L1C   \n",
       "2    [location:tropical, location:southern, season:...  PEPS_S2_L1C   \n",
       "3    [location:tropical, location:southern, season:...  PEPS_S2_L1C   \n",
       "4    [location:tropical, location:southern, season:...  PEPS_S2_L1C   \n",
       "..                                                 ...          ...   \n",
       "847                 [location:southern, season:summer]  PEPS_S2_L1C   \n",
       "848  [location:northern, location:coastal, season:w...  PEPS_S2_L1C   \n",
       "849  [location:tropical, location:northern, season:...  PEPS_S2_L1C   \n",
       "850  [location:southern, location:coastal, season:s...  PEPS_S2_L1C   \n",
       "851                 [location:southern, season:summer]  PEPS_S2_L1C   \n",
       "\n",
       "    spaceborne:productType     dataType spaceborne:orbitDirection  \\\n",
       "0                  S2MSI1C  PEPS_S2_L1C                Descending   \n",
       "1                  S2MSI1C  PEPS_S2_L1C                Descending   \n",
       "2                  S2MSI1C  PEPS_S2_L1C                Descending   \n",
       "3                  S2MSI1C  PEPS_S2_L1C                Descending   \n",
       "4                  S2MSI1C  PEPS_S2_L1C                Descending   \n",
       "..                     ...          ...                       ...   \n",
       "847                S2MSI1C  PEPS_S2_L1C                Descending   \n",
       "848                S2MSI1C  PEPS_S2_L1C                Descending   \n",
       "849                S2MSI1C  PEPS_S2_L1C                Descending   \n",
       "850                S2MSI1C  PEPS_S2_L1C                Descending   \n",
       "851                S2MSI1C  PEPS_S2_L1C                Descending   \n",
       "\n",
       "    spaceborne:continentsID spaceborne:productLevel  \\\n",
       "0                        []                     L1C   \n",
       "1                        []                     L1C   \n",
       "2                        []                     L1C   \n",
       "3                        []                     L1C   \n",
       "4                        []                     L1C   \n",
       "..                      ...                     ...   \n",
       "847                    [AN]                     L1C   \n",
       "848                    [NA]                     L1C   \n",
       "849                      []                     L1C   \n",
       "850                    [OC]                     L1C   \n",
       "851                    [AN]                     L1C   \n",
       "\n",
       "                                 spaceborne:references  ...  \\\n",
       "0    [{'url': 'http://www.naturalearthdata.com/down...  ...   \n",
       "1    [{'url': 'http://www.naturalearthdata.com/down...  ...   \n",
       "2    [{'url': 'http://www.naturalearthdata.com/down...  ...   \n",
       "3    [{'url': 'http://www.naturalearthdata.com/down...  ...   \n",
       "4    [{'url': 'http://www.naturalearthdata.com/down...  ...   \n",
       "..                                                 ...  ...   \n",
       "847  [{'url': 'http://www.naturalearthdata.com/down...  ...   \n",
       "848  [{'url': 'http://www.naturalearthdata.com/down...  ...   \n",
       "849  [{'url': 'http://www.naturalearthdata.com/down...  ...   \n",
       "850  [{'url': 'http://www.naturalearthdata.com/down...  ...   \n",
       "851  [{'url': 'http://www.naturalearthdata.com/down...  ...   \n",
       "\n",
       "    processing:processingVersion                 spaceborne:s2TakeId  \\\n",
       "0                          05.00  GS2A_20210527T233821_030972_N05.00   \n",
       "1                          05.00  GS2A_20210527T233821_030972_N05.00   \n",
       "2                          05.00  GS2A_20210527T233821_030972_N05.00   \n",
       "3                          05.00  GS2A_20210527T233821_030972_N05.00   \n",
       "4                          05.00  GS2A_20210527T233821_030972_N05.00   \n",
       "..                           ...                                 ...   \n",
       "847                        05.09  GS2B_20230209T231349_030972_N05.09   \n",
       "848                        05.09  GS2B_20230209T223659_030972_N05.09   \n",
       "849                        05.09  GS2B_20230209T225459_030972_N05.09   \n",
       "850                        05.09  GS2B_20230209T230409_030972_N05.09   \n",
       "851                        05.09  GS2B_20230209T231349_030972_N05.09   \n",
       "\n",
       "                             accessService:endpointURL  \\\n",
       "0    https://s3.datalake.cnes.fr/sentinel2-l1c/57/L...   \n",
       "1    https://s3.datalake.cnes.fr/sentinel2-l1c/57/L...   \n",
       "2    https://s3.datalake.cnes.fr/sentinel2-l1c/57/K...   \n",
       "3    https://s3.datalake.cnes.fr/sentinel2-l1c/57/K...   \n",
       "4    https://s3.datalake.cnes.fr/sentinel2-l1c/57/L...   \n",
       "..                                                 ...   \n",
       "847  https://s3.datalake.cnes.fr/sentinel2-l1c/52/C...   \n",
       "848  https://s3.datalake.cnes.fr/sentinel2-l1c/02/U...   \n",
       "849  https://s3.datalake.cnes.fr/sentinel2-l1c/60/N...   \n",
       "850  https://s3.datalake.cnes.fr/sentinel2-l1c/58/J...   \n",
       "851  https://s3.datalake.cnes.fr/sentinel2-l1c/49/C...   \n",
       "\n",
       "                       spaceborne:political.continents  \\\n",
       "0                                                   []   \n",
       "1                                                   []   \n",
       "2                                                   []   \n",
       "3                                                   []   \n",
       "4                                                   []   \n",
       "..                                                 ...   \n",
       "847  [{'id': 'continent:Antarctica:6255152', 'name'...   \n",
       "848  [{'id': 'continent:NorthAmerica:6255149', 'nam...   \n",
       "849                                                 []   \n",
       "850  [{'id': 'continent:Oceania:6255151', 'name': '...   \n",
       "851  [{'id': 'continent:Antarctica:6255152', 'name'...   \n",
       "\n",
       "                                          spatial:bbox  versionInfo  \\\n",
       "0    161.77151396695,-13.543297699414,161.816238781...        00.00   \n",
       "1    159.93634686752,-16.367164183361,160.954547796...        00.00   \n",
       "2    159.95583373941,-19.982230511911,160.342529421...        00.00   \n",
       "3    159.96143100666,-20.885366094496,160.136652542...        00.00   \n",
       "4    161.73640664108,-10.028033044382,162.571503370...        00.00   \n",
       "..                                                 ...          ...   \n",
       "847  128.99916801842,-77.564425417387,133.544499891...        00.00   \n",
       "848  -172.46556,52.253449535173,-170.85373,53.24953...        00.00   \n",
       "849  175.19955511589,3.5288285993601,175.6288934134...        00.00   \n",
       "850  167.05275105063,-29.000336644821,168.175139345...        00.00   \n",
       "851  111.56813158306,-81.148069515409,105.768297510...        00.00   \n",
       "\n",
       "                                                    id  \\\n",
       "0    URN:FEATURE:DATA:gdh:c72b550c-52f5-3fa0-8bc0-6...   \n",
       "1    URN:FEATURE:DATA:gdh:2327b73a-4cda-3340-8ff6-9...   \n",
       "2    URN:FEATURE:DATA:gdh:187a9026-dbc4-30fe-8a90-f...   \n",
       "3    URN:FEATURE:DATA:gdh:ac4337b5-dca0-39a1-9a1f-b...   \n",
       "4    URN:FEATURE:DATA:gdh:a96dc6c4-8550-339a-8d95-a...   \n",
       "..                                                 ...   \n",
       "847  URN:FEATURE:DATA:gdh:6089196a-2b30-396d-b9e3-1...   \n",
       "848  URN:FEATURE:DATA:gdh:f2647d63-395a-3f41-8436-b...   \n",
       "849  URN:FEATURE:DATA:gdh:b0eb078f-3b5b-3200-8aa5-c...   \n",
       "850  URN:FEATURE:DATA:gdh:7c4bc98f-9088-30eb-bfd4-b...   \n",
       "851  URN:FEATURE:DATA:gdh:769975fa-4a98-3fd1-a774-1...   \n",
       "\n",
       "             temporal:endDate  \\\n",
       "0    2021-05-27T23:38:21.024Z   \n",
       "1    2021-05-27T23:38:21.024Z   \n",
       "2    2021-05-27T23:38:21.024Z   \n",
       "3    2021-05-27T23:38:21.024Z   \n",
       "4    2021-05-27T23:38:21.024Z   \n",
       "..                        ...   \n",
       "847  2023-02-09T23:13:49.024Z   \n",
       "848  2023-02-09T22:36:59.024Z   \n",
       "849  2023-02-09T22:54:59.024Z   \n",
       "850  2023-02-09T23:04:09.024Z   \n",
       "851  2023-02-09T23:13:49.024Z   \n",
       "\n",
       "                                                  item  \\\n",
       "0    Item (URN:FEATURE:DATA:gdh:c72b550c-52f5-3fa0-...   \n",
       "1    Item (URN:FEATURE:DATA:gdh:2327b73a-4cda-3340-...   \n",
       "2    Item (URN:FEATURE:DATA:gdh:187a9026-dbc4-30fe-...   \n",
       "3    Item (URN:FEATURE:DATA:gdh:ac4337b5-dca0-39a1-...   \n",
       "4    Item (URN:FEATURE:DATA:gdh:a96dc6c4-8550-339a-...   \n",
       "..                                                 ...   \n",
       "847  Item (URN:FEATURE:DATA:gdh:6089196a-2b30-396d-...   \n",
       "848  Item (URN:FEATURE:DATA:gdh:f2647d63-395a-3f41-...   \n",
       "849  Item (URN:FEATURE:DATA:gdh:b0eb078f-3b5b-3200-...   \n",
       "850  Item (URN:FEATURE:DATA:gdh:7c4bc98f-9088-30eb-...   \n",
       "851  Item (URN:FEATURE:DATA:gdh:769975fa-4a98-3fd1-...   \n",
       "\n",
       "                                              geometry  \n",
       "0    POLYGON ((161.77151 -13.54330, 161.78322 -13.4...  \n",
       "1    POLYGON ((159.93635 -16.36716, 160.96413 -16.3...  \n",
       "2    POLYGON ((159.95583 -19.98223, 160.31685 -19.9...  \n",
       "3    POLYGON ((159.96143 -20.88537, 160.10729 -20.8...  \n",
       "4    POLYGON ((161.73641 -10.02803, 162.55115 -10.0...  \n",
       "..                                                 ...  \n",
       "847  POLYGON ((128.99917 -77.56443, 133.41004 -77.5...  \n",
       "848  POLYGON ((-172.46556 52.25345, -170.85700 52.2...  \n",
       "849  POLYGON ((175.19956 3.52883, 175.59973 3.52939...  \n",
       "850  POLYGON ((167.05275 -29.00034, 168.17876 -28.9...  \n",
       "851  POLYGON ((111.56813 -81.14807, 111.51180 -80.1...  \n",
       "\n",
       "[852 rows x 30 columns]"
      ]
     },
     "execution_count": 24,
     "metadata": {},
     "output_type": "execute_result"
    }
   ],
   "source": [
    "full_dataframe"
   ]
  },
  {
   "cell_type": "markdown",
   "id": "1f9729a6-10c0-4fd0-9ce4-0ba319ffcd9a",
   "metadata": {},
   "source": [
    "## Providing an api key\n",
    "The next parts involve requests that require an api-key. You can register one using the following method. We will also set a default download directory, for later. We use a file `config.json` formed as follows : \n",
    "\n",
    "```json\n",
    "{\"api_key\" : \"MyApiKey\",\"download_dir\" : \"/tmp\"}\n",
    "```"
   ]
  },
  {
   "cell_type": "code",
   "execution_count": 25,
   "id": "41a12fea-da93-4c57-8335-b603d069fb03",
   "metadata": {
    "tags": []
   },
   "outputs": [],
   "source": [
    "from pygeodes import Config\n",
    "\n",
    "conf = Config.from_file(\"config.json\")\n",
    "geodes.set_conf(conf)"
   ]
  },
  {
   "cell_type": "markdown",
   "id": "81556b81-fa28-4206-9d2f-36696d236927",
   "metadata": {},
   "source": [
    "Other ways to configure pygeodes are described in [configuration](configuration.rst)."
   ]
  },
  {
   "cell_type": "markdown",
   "id": "5873956d-9b5b-4337-b197-fbe6e2fdbf11",
   "metadata": {},
   "source": [
    "## Quicklook\n",
    "Now we can have a look at our items."
   ]
  },
  {
   "cell_type": "code",
   "execution_count": 26,
   "id": "fc38bf22-08b8-46e7-b11d-481fef0fbe27",
   "metadata": {
    "tags": []
   },
   "outputs": [
    {
     "name": "stdout",
     "output_type": "stream",
     "text": [
      "Quicklook of Item (URN:FEATURE:DATA:gdh:e4c321cd-3e90-3a97-a357-5d64ca3e8e49:V1)\n"
     ]
    },
    {
     "data": {
      "image/jpeg": "[encoded data removed]",
      "text/plain": [
       "<IPython.core.display.Image object>"
      ]
     },
     "metadata": {},
     "output_type": "display_data"
    },
    {
     "name": "stdout",
     "output_type": "stream",
     "text": [
      "Quicklook of Item (URN:FEATURE:DATA:gdh:c10655c6-e1ed-3173-a460-88573c359320:V1)\n"
     ]
    },
    {
     "data": {
      "image/jpeg": "[encoded data removed]",
      "text/plain": [
       "<IPython.core.display.Image object>"
      ]
     },
     "metadata": {},
     "output_type": "display_data"
    },
    {
     "name": "stdout",
     "output_type": "stream",
     "text": [
      "Quicklook of Item (URN:FEATURE:DATA:gdh:20afef16-f166-3e08-ba5e-c20e6cda60c1:V1)\n"
     ]
    },
    {
     "data": {
      "image/jpeg": "[encoded data removed]",
      "text/plain": [
       "<IPython.core.display.Image object>"
      ]
     },
     "metadata": {},
     "output_type": "display_data"
    },
    {
     "name": "stdout",
     "output_type": "stream",
     "text": [
      "Quicklook of Item (URN:FEATURE:DATA:gdh:9635442b-1548-39e7-9095-1d2f3bc89df4:V1)\n"
     ]
    },
    {
     "data": {
      "image/jpeg": "[encoded data removed]",
      "text/plain": [
       "<IPython.core.display.Image object>"
      ]
     },
     "metadata": {},
     "output_type": "display_data"
    }
   ],
   "source": [
    "for item in filtered[\"item\"]:\n",
    "    print(f\"Quicklook of {item}\")\n",
    "    item.show_quicklook()"
   ]
  },
  {
   "cell_type": "markdown",
   "id": "14a8b9e9-2370-44af-9eb7-8ffba99adedd",
   "metadata": {},
   "source": [
    "## Downloading items"
   ]
  },
  {
   "cell_type": "markdown",
   "id": "57d28cb3-f329-4b61-801b-bebecff12f64",
   "metadata": {
    "tags": []
   },
   "source": [
    "Now we could want to download these items for further use :"
   ]
  },
  {
   "cell_type": "code",
   "execution_count": 27,
   "id": "31beacc2-9dd2-440d-9380-c388e57482a2",
   "metadata": {
    "tags": []
   },
   "outputs": [
    {
     "name": "stderr",
     "output_type": "stream",
     "text": [
      "                                                                     \r"
     ]
    },
    {
     "name": "stdout",
     "output_type": "stream",
     "text": [
      "Download completed at /tmp/S2B_MSIL1C_20230209T230019_N0509_R058_T59LND_20230210T001018.zip\n"
     ]
    },
    {
     "name": "stderr",
     "output_type": "stream",
     "text": [
      "                                                                     \r"
     ]
    },
    {
     "name": "stdout",
     "output_type": "stream",
     "text": [
      "Download completed at /tmp/S2B_MSIL1C_20230209T231349_N0509_R058_T54DXM_20230210T001003.zip\n"
     ]
    },
    {
     "name": "stderr",
     "output_type": "stream",
     "text": [
      "                                                                     \r"
     ]
    },
    {
     "name": "stdout",
     "output_type": "stream",
     "text": [
      "Download completed at /tmp/S2A_MSIL1C_20210527T234311_N0500_R087_T57JUJ_20230301T001059.zip\n"
     ]
    },
    {
     "name": "stderr",
     "output_type": "stream",
     "text": [
      "                                                                     \r"
     ]
    },
    {
     "name": "stdout",
     "output_type": "stream",
     "text": [
      "Download completed at /tmp/S2A_MSIL1C_20210527T233821_N0500_R087_T57LZH_20230316T103827.zip\n"
     ]
    }
   ],
   "source": [
    "for item in filtered[\"item\"]:\n",
    "    item.download_archive()"
   ]
  },
  {
   "cell_type": "markdown",
   "id": "fa804bda-60a5-480b-a507-edc43b840336",
   "metadata": {},
   "source": [
    "As we provided `/tmp` as default download dir, the downloads are stored in this folder."
   ]
  }
 ],
 "metadata": {
  "kernelspec": {
   "display_name": "demo_pygeodes",
   "language": "python",
   "name": "demo_pygeodes"
  },
  "language_info": {
   "codemirror_mode": {
    "name": "ipython",
    "version": 3
   },
   "file_extension": ".py",
   "mimetype": "text/x-python",
   "name": "python",
   "nbconvert_exporter": "python",
   "pygments_lexer": "ipython3",
   "version": "3.8.4"
  }
 },
 "nbformat": 4,
 "nbformat_minor": 5
}
